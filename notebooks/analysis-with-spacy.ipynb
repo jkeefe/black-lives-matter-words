{
 "cells": [
  {
   "cell_type": "markdown",
   "metadata": {
    "colab_type": "text",
    "id": "94gdnTZx3rpX"
   },
   "source": [
    "# Part-of-speech Extratction with spaCy"
   ]
  },
  {
   "cell_type": "markdown",
   "metadata": {
    "colab_type": "text",
    "id": "oMdrdIFE3rpZ"
   },
   "source": [
    "## Overview\n",
    "\n",
    "We're going to look for all the people mentioned in a pile of documents.\n",
    "\n",
    "### Entites\n",
    "\n",
    "\"Entities\" in documents are, generally, names -- names of people, places, and things such as companies. Finding out which entities are mentioned in a trove of documents can be pretty helpful, especially when you don't previously _know_ someone or some place is included the document.\n",
    "\n",
    "There are services online that do this kind of extraction, including [DocumentCloud](https://www.documentcloud.org/) ([see how here](https://www.documentcloud.org/faq#faq-analyzing-1)), [Amazon Comprehend](https://aws.amazon.com/comprehend/features/) and [Google Natural Language](https://cloud.google.com/natural-language/).\n",
    "\n",
    "### Using spaCy\n",
    "\n",
    "We're going to do our entity extraction right here in our notebook using a pre-trained natural language model called [spaCy](https://spacy.io/). Specifically, we're using the spaCy [large English language model](https://spacy.io/models/en#en_core_web_lg) trained on the [OntoNotes dataset](https://catalog.ldc.upenn.edu/LDC2013T19) -- a trove of \"telephone conversations, newswire, newsgroups, broadcast news, broadcast conversation, weblogs\" that includes nearly 1.5 million English words.  \n",
    "\n",
    "The spaCy project has a lot of great language features. We'll be looking at the [named entities feature](https://spacy.io/usage/linguistic-features#named-entities). Note also that there are [models for several languages](https://spacy.io/models) being developed in spaCy.\n",
    "\n",
    "\n",
    "## The Plan\n",
    "\n",
    "- We'll download the spaCy software and the large English language model.\n",
    "- We'll also download a (smallish) pile of emails released in a court case.\n",
    "- We'll learn how to use spaCy functions to extract entities\n",
    "- We'll use the spaCy functions to scan all the pages of the emails."
   ]
  },
  {
   "cell_type": "markdown",
   "metadata": {
    "colab_type": "text",
    "id": "iyic6J1H3rpa"
   },
   "source": [
    "## Credits\n",
    "\n",
    "This notebook was written by John Keefe [Quartz](https://qz.com) at Quartz and includes document-processing code written included in [a blog post](https://qz.ai/discovering-interesting-documents-in-the-mauritius-leaks/) and a [Jupyter notebook](https://github.com/Quartz/aistudio-doc2vec-for-investigative-journalism/blob/master/Doc2vec%20for%20Investigative%20Journalism.ipynb) by Jeremy B. Merrill at Quartz, who used it to help find documents inside a document dump known as the [Mauritius Leaks](https://qz.com/1670632/how-quartz-used-ai-to-help-reporters-search-the-mauritius-leaks/).  \n",
    "\n",
    "-- John Keefe, [Quartz](https://qz.com), October 2019"
   ]
  },
  {
   "cell_type": "markdown",
   "metadata": {
    "colab_type": "text",
    "id": "ZY9wZpxT3rpa"
   },
   "source": [
    "## Setup"
   ]
  },
  {
   "cell_type": "markdown",
   "metadata": {
    "colab_type": "text",
    "id": "YFQXziPj3rpb"
   },
   "source": [
    "### For those using Google Colaboratory ...\n",
    "\n",
    "Be aware that Google Colab instances are ephemeral -- they vanish *Poof* when you close them, or after a period of sitting idle (currently 90 minutes), or if you use one for more than 12 hours.\n",
    "\n",
    "Note that there's a part of this notebook that doesn't seem to work with a GPU (It's the vector part below) so we'll stay on the CPU for now."
   ]
  },
  {
   "cell_type": "markdown",
   "metadata": {
    "colab_type": "text",
    "id": "qpmTeT2D3rpd"
   },
   "source": [
    "### Everybody do this ..."
   ]
  },
  {
   "cell_type": "markdown",
   "metadata": {
    "colab_type": "text",
    "id": "R-SVR0P03rpe"
   },
   "source": [
    "Everyone needs to run the next cell, which initializes the Python libraries we'll use in this notebook."
   ]
  },
  {
   "cell_type": "code",
   "execution_count": 1,
   "metadata": {
    "colab": {
     "base_uri": "https://localhost:8080/",
     "height": 642
    },
    "colab_type": "code",
    "id": "Efrdg2kQ3rpf",
    "outputId": "f430e816-0df6-4d6b-9346-763e2860ff47"
   },
   "outputs": [
    {
     "name": "stdout",
     "output_type": "stream",
     "text": [
      "\u001b[39m\u001b[1mInstalling \u001b[32m\u001b[1mspacy\u001b[39m\u001b[22m…\u001b[39m\u001b[22m\n",
      "\u001b[K\u001b[39m\u001b[1mAdding\u001b[39m\u001b[22m \u001b[32m\u001b[1mspacy\u001b[39m\u001b[22m \u001b[39m\u001b[1mto Pipfile's\u001b[39m\u001b[22m \u001b[31m\u001b[1m[packages]\u001b[39m\u001b[22m\u001b[39m\u001b[1m…\u001b[39m\u001b[22m\n",
      "\u001b[K\u001b[?25h✔ Installation Succeeded\u001b[0m \n",
      "\u001b[39m\u001b[1mInstalling \u001b[32m\u001b[1m--quiet\u001b[39m\u001b[22m…\u001b[39m\u001b[22m\n",
      "\u001b[K\u001b[?25hTraceback (most recent call last):\n",
      "  File \"/Users/johnkeefe/.pyenv/versions/3.7.7/lib/python3.7/site-packages/pkg_resources/_vendor/packaging/requirements.py\", line 90, in __init__\n",
      "    req = REQUIREMENT.parseString(requirement_string)\n",
      "  File \"/Users/johnkeefe/.pyenv/versions/3.7.7/lib/python3.7/site-packages/pkg_resources/_vendor/pyparsing.py\", line 1654, in parseString\n",
      "    raise exc\n",
      "  File \"/Users/johnkeefe/.pyenv/versions/3.7.7/lib/python3.7/site-packages/pkg_resources/_vendor/pyparsing.py\", line 1644, in parseString\n",
      "    loc, tokens = self._parse( instring, 0 )\n",
      "  File \"/Users/johnkeefe/.pyenv/versions/3.7.7/lib/python3.7/site-packages/pkg_resources/_vendor/pyparsing.py\", line 1402, in _parseNoCache\n",
      "    loc,tokens = self.parseImpl( instring, preloc, doActions )\n",
      "  File \"/Users/johnkeefe/.pyenv/versions/3.7.7/lib/python3.7/site-packages/pkg_resources/_vendor/pyparsing.py\", line 3417, in parseImpl\n",
      "    loc, exprtokens = e._parse( instring, loc, doActions )\n",
      "  File \"/Users/johnkeefe/.pyenv/versions/3.7.7/lib/python3.7/site-packages/pkg_resources/_vendor/pyparsing.py\", line 1402, in _parseNoCache\n",
      "    loc,tokens = self.parseImpl( instring, preloc, doActions )\n",
      "  File \"/Users/johnkeefe/.pyenv/versions/3.7.7/lib/python3.7/site-packages/pkg_resources/_vendor/pyparsing.py\", line 3739, in parseImpl\n",
      "    return self.expr._parse( instring, loc, doActions, callPreParse=False )\n",
      "  File \"/Users/johnkeefe/.pyenv/versions/3.7.7/lib/python3.7/site-packages/pkg_resources/_vendor/pyparsing.py\", line 1402, in _parseNoCache\n",
      "    loc,tokens = self.parseImpl( instring, preloc, doActions )\n",
      "  File \"/Users/johnkeefe/.pyenv/versions/3.7.7/lib/python3.7/site-packages/pkg_resources/_vendor/pyparsing.py\", line 3400, in parseImpl\n",
      "    loc, resultlist = self.exprs[0]._parse( instring, loc, doActions, callPreParse=False )\n",
      "  File \"/Users/johnkeefe/.pyenv/versions/3.7.7/lib/python3.7/site-packages/pkg_resources/_vendor/pyparsing.py\", line 1406, in _parseNoCache\n",
      "    loc,tokens = self.parseImpl( instring, preloc, doActions )\n",
      "  File \"/Users/johnkeefe/.pyenv/versions/3.7.7/lib/python3.7/site-packages/pkg_resources/_vendor/pyparsing.py\", line 2711, in parseImpl\n",
      "    raise ParseException(instring, loc, self.errmsg, self)\n",
      "pkg_resources._vendor.pyparsing.ParseException: Expected W:(abcd...) (at char 0), (line:1, col:1)\n",
      "\n",
      "During handling of the above exception, another exception occurred:\n",
      "\n",
      "Traceback (most recent call last):\n",
      "  File \"/Users/johnkeefe/.pyenv/versions/3.7.7/lib/python3.7/site-packages/pkg_resources/__init__.py\", line 3101, in __init__\n",
      "    super(Requirement, self).__init__(requirement_string)\n",
      "  File \"/Users/johnkeefe/.pyenv/versions/3.7.7/lib/python3.7/site-packages/pkg_resources/_vendor/packaging/requirements.py\", line 94, in __init__\n",
      "    requirement_string[e.loc:e.loc + 8]))\n",
      "pkg_resources.extern.packaging.requirements.InvalidRequirement: Invalid requirement, parse error at \"'--quiet'\"\n",
      "\n",
      "During handling of the above exception, another exception occurred:\n",
      "\n",
      "Traceback (most recent call last):\n",
      "  File \"/Users/johnkeefe/.pyenv/versions/3.7.7/lib/python3.7/site-packages/pipenv/vendor/requirementslib/models/requirements.py\", line 975, in _parse_name_from_line\n",
      "    self._requirement = init_requirement(self.line)\n",
      "  File \"/Users/johnkeefe/.pyenv/versions/3.7.7/lib/python3.7/site-packages/pipenv/vendor/requirementslib/models/utils.py\", line 200, in init_requirement\n",
      "    req = Requirement.parse(name)\n",
      "  File \"/Users/johnkeefe/.pyenv/versions/3.7.7/lib/python3.7/site-packages/pkg_resources/__init__.py\", line 3147, in parse\n",
      "    req, = parse_requirements(s)\n",
      "  File \"/Users/johnkeefe/.pyenv/versions/3.7.7/lib/python3.7/site-packages/pkg_resources/__init__.py\", line 3094, in parse_requirements\n",
      "    yield Requirement(line)\n",
      "  File \"/Users/johnkeefe/.pyenv/versions/3.7.7/lib/python3.7/site-packages/pkg_resources/__init__.py\", line 3103, in __init__\n",
      "    raise RequirementParseError(str(e))\n",
      "pkg_resources.RequirementParseError: Invalid requirement, parse error at \"'--quiet'\"\n",
      "\n",
      "During handling of the above exception, another exception occurred:\n",
      "\n",
      "Traceback (most recent call last):\n",
      "  File \"/Users/johnkeefe/.pyenv/versions/3.7.7/bin/pipenv\", line 10, in <module>\n",
      "    sys.exit(cli())\n",
      "  File \"/Users/johnkeefe/.pyenv/versions/3.7.7/lib/python3.7/site-packages/pipenv/vendor/click/core.py\", line 829, in __call__\n",
      "    return self.main(*args, **kwargs)\n",
      "  File \"/Users/johnkeefe/.pyenv/versions/3.7.7/lib/python3.7/site-packages/pipenv/vendor/click/core.py\", line 782, in main\n",
      "    rv = self.invoke(ctx)\n",
      "  File \"/Users/johnkeefe/.pyenv/versions/3.7.7/lib/python3.7/site-packages/pipenv/vendor/click/core.py\", line 1259, in invoke\n",
      "    return _process_result(sub_ctx.command.invoke(sub_ctx))\n",
      "  File \"/Users/johnkeefe/.pyenv/versions/3.7.7/lib/python3.7/site-packages/pipenv/vendor/click/core.py\", line 1066, in invoke\n",
      "    return ctx.invoke(self.callback, **ctx.params)\n",
      "  File \"/Users/johnkeefe/.pyenv/versions/3.7.7/lib/python3.7/site-packages/pipenv/vendor/click/core.py\", line 610, in invoke\n",
      "    return callback(*args, **kwargs)\n",
      "  File \"/Users/johnkeefe/.pyenv/versions/3.7.7/lib/python3.7/site-packages/pipenv/vendor/click/decorators.py\", line 73, in new_func\n",
      "    return ctx.invoke(f, obj, *args, **kwargs)\n",
      "  File \"/Users/johnkeefe/.pyenv/versions/3.7.7/lib/python3.7/site-packages/pipenv/vendor/click/core.py\", line 610, in invoke\n",
      "    return callback(*args, **kwargs)\n",
      "  File \"/Users/johnkeefe/.pyenv/versions/3.7.7/lib/python3.7/site-packages/pipenv/vendor/click/decorators.py\", line 21, in new_func\n",
      "    return f(get_current_context(), *args, **kwargs)\n",
      "  File \"/Users/johnkeefe/.pyenv/versions/3.7.7/lib/python3.7/site-packages/pipenv/cli/command.py\", line 252, in install\n",
      "    site_packages=state.site_packages\n",
      "  File \"/Users/johnkeefe/.pyenv/versions/3.7.7/lib/python3.7/site-packages/pipenv/core.py\", line 2099, in do_install\n",
      "    pkg_requirement = Requirement.from_line(pkg_line)\n",
      "  File \"/Users/johnkeefe/.pyenv/versions/3.7.7/lib/python3.7/site-packages/pipenv/vendor/requirementslib/models/requirements.py\", line 2672, in from_line\n",
      "    parsed_line = Line(line)\n",
      "  File \"/Users/johnkeefe/.pyenv/versions/3.7.7/lib/python3.7/site-packages/pipenv/vendor/requirementslib/models/requirements.py\", line 178, in __init__\n",
      "    self.parse()\n",
      "  File \"/Users/johnkeefe/.pyenv/versions/3.7.7/lib/python3.7/site-packages/pipenv/vendor/requirementslib/models/requirements.py\", line 1313, in parse\n",
      "    self.parse_name()\n",
      "  File \"/Users/johnkeefe/.pyenv/versions/3.7.7/lib/python3.7/site-packages/pipenv/vendor/requirementslib/models/requirements.py\", line 1036, in parse_name\n",
      "    name = self._parse_name_from_line()\n",
      "  File \"/Users/johnkeefe/.pyenv/versions/3.7.7/lib/python3.7/site-packages/pipenv/vendor/requirementslib/models/requirements.py\", line 978, in _parse_name_from_line\n",
      "    \"Failed parsing requirement from {0!r}\".format(self.line)\n",
      "pipenv.vendor.requirementslib.exceptions.RequirementError: Failed parsing requirement from '--quiet'\n",
      "\u001b[0mCollecting en_core_web_lg==2.3.1\n",
      "  Downloading https://github.com/explosion/spacy-models/releases/download/en_core_web_lg-2.3.1/en_core_web_lg-2.3.1.tar.gz (782.7 MB)\n",
      "\u001b[K     |████████████████████████████████| 782.7 MB 32.1 MB/s eta 0:00:01   |▌                               | 13.6 MB 2.5 MB/s eta 0:05:13     |█▌                              | 37.8 MB 14.8 MB/s eta 0:00:51     |██▏                             | 53.8 MB 13.4 MB/s eta 0:00:55     |██▋                             | 65.2 MB 13.4 MB/s eta 0:00:54     |██▉                             | 68.2 MB 32.2 MB/s eta 0:00:23     |███▊                            | 89.8 MB 24.8 MB/s eta 0:00:28     |█████                           | 123.3 MB 15.9 MB/s eta 0:00:42     |█████▏                          | 126.7 MB 15.9 MB/s eta 0:00:42     |███████▏                        | 176.4 MB 18.1 MB/s eta 0:00:34�███████▎                       | 201.4 MB 22.5 MB/s eta 0:00:26     |████████▎                       | 202.9 MB 22.5 MB/s eta 0:00:26     |█████████▏                      | 225.5 MB 38.3 MB/s eta 0:00:15     |█████████▋                      | 234.3 MB 38.3 MB/s eta 0:00:15     |██████████████▎                 | 348.3 MB 9.9 MB/s eta 0:00:44     |████████████████▏               | 396.2 MB 28.3 MB/s eta 0:00:14     |█████████████████▊              | 433.7 MB 10.4 MB/s eta 0:00:34     |██████████████████▏             | 445.5 MB 10.4 MB/s eta 0:00:33     |████████████████████▊           | 505.6 MB 35.6 MB/s eta 0:00:08     |████████████████████▊           | 506.5 MB 35.6 MB/s eta 0:00:08     |████████████████████▊           | 508.2 MB 35.6 MB/s eta 0:00:08     |█████████████████████▍          | 523.1 MB 21.7 MB/s eta 0:00:12     |█████████████████████▊          | 532.5 MB 21.7 MB/s eta 0:00:12     |██████████████████████▋         | 554.3 MB 20.3 MB/s eta 0:00:12     |███████████████████████▌        | 574.4 MB 20.3 MB/s eta 0:00:11�███████████        | 588.2 MB 19.3 MB/s eta 0:00:11     |████████████████████████▊       | 603.5 MB 13.5 MB/s eta 0:00:14     |████████████████████████▉       | 606.4 MB 13.5 MB/s eta 0:00:14     |█████████████████████████       | 611.7 MB 13.5 MB/s eta 0:00:13     |█████████████████████████▎      | 617.0 MB 13.5 MB/s eta 0:00:13███████████████████████▍      | 621.3 MB 19.7 MB/s eta 0:00:09��██▏     | 639.1 MB 19.7 MB/s eta 0:00:08     |██████████████████████████▌     | 649.5 MB 28.3 MB/s eta 0:00:05     |███████████████████████████     | 662.0 MB 28.3 MB/s eta 0:00:05     |███████████████████████████▋    | 675.9 MB 20.6 MB/s eta 0:00:06     |████████████████████████████    | 687.4 MB 10.4 MB/s eta 0:00:10     |████████████████████████████▍   | 694.5 MB 10.4 MB/s eta 0:00:09     |████████████████████████████▉   | 704.4 MB 3.6 MB/s eta 0:00:23�█▌  | 722.3 MB 3.6 MB/s eta 0:00:17     |█████████████████████████████▊  | 727.3 MB 4.0 MB/s eta 0:00:14�█▉  | 730.0 MB 4.0 MB/s eta 0:00:14     |██████████████████████████████  | 732.4 MB 4.0 MB/s eta 0:00:13     |██████████████████████████████▎ | 739.6 MB 48.8 MB/s eta 0:00:01     |██████████████████████████████▊ | 750.5 MB 48.8 MB/s eta 0:00:01��███████ | 758.6 MB 48.8 MB/s eta 0:00:01███████████████▏| 763.2 MB 29.8 MB/s eta 0:00:01�██████████████████████▎| 766.1 MB 29.8 MB/s eta 0:00:01\n",
      "\u001b[?25hRequirement already satisfied: spacy<2.4.0,>=2.3.0 in /Users/johnkeefe/Code/jkeefe-github/black-lives-matter-words/.venv/lib/python3.7/site-packages (from en_core_web_lg==2.3.1) (2.3.2)\n",
      "Requirement already satisfied: setuptools in /Users/johnkeefe/Code/jkeefe-github/black-lives-matter-words/.venv/lib/python3.7/site-packages (from spacy<2.4.0,>=2.3.0->en_core_web_lg==2.3.1) (46.4.0)\n",
      "Requirement already satisfied: numpy>=1.15.0 in /Users/johnkeefe/Code/jkeefe-github/black-lives-matter-words/.venv/lib/python3.7/site-packages (from spacy<2.4.0,>=2.3.0->en_core_web_lg==2.3.1) (1.19.0)\n",
      "Requirement already satisfied: requests<3.0.0,>=2.13.0 in /Users/johnkeefe/Code/jkeefe-github/black-lives-matter-words/.venv/lib/python3.7/site-packages (from spacy<2.4.0,>=2.3.0->en_core_web_lg==2.3.1) (2.24.0)\n",
      "Requirement already satisfied: cymem<2.1.0,>=2.0.2 in /Users/johnkeefe/Code/jkeefe-github/black-lives-matter-words/.venv/lib/python3.7/site-packages (from spacy<2.4.0,>=2.3.0->en_core_web_lg==2.3.1) (2.0.3)\n",
      "Requirement already satisfied: srsly<1.1.0,>=1.0.2 in /Users/johnkeefe/Code/jkeefe-github/black-lives-matter-words/.venv/lib/python3.7/site-packages (from spacy<2.4.0,>=2.3.0->en_core_web_lg==2.3.1) (1.0.2)\n",
      "Requirement already satisfied: wasabi<1.1.0,>=0.4.0 in /Users/johnkeefe/Code/jkeefe-github/black-lives-matter-words/.venv/lib/python3.7/site-packages (from spacy<2.4.0,>=2.3.0->en_core_web_lg==2.3.1) (0.7.1)\n",
      "Requirement already satisfied: preshed<3.1.0,>=3.0.2 in /Users/johnkeefe/Code/jkeefe-github/black-lives-matter-words/.venv/lib/python3.7/site-packages (from spacy<2.4.0,>=2.3.0->en_core_web_lg==2.3.1) (3.0.2)\n",
      "Requirement already satisfied: tqdm<5.0.0,>=4.38.0 in /Users/johnkeefe/Code/jkeefe-github/black-lives-matter-words/.venv/lib/python3.7/site-packages (from spacy<2.4.0,>=2.3.0->en_core_web_lg==2.3.1) (4.48.0)\n",
      "Requirement already satisfied: thinc==7.4.1 in /Users/johnkeefe/Code/jkeefe-github/black-lives-matter-words/.venv/lib/python3.7/site-packages (from spacy<2.4.0,>=2.3.0->en_core_web_lg==2.3.1) (7.4.1)\n",
      "Requirement already satisfied: blis<0.5.0,>=0.4.0 in /Users/johnkeefe/Code/jkeefe-github/black-lives-matter-words/.venv/lib/python3.7/site-packages (from spacy<2.4.0,>=2.3.0->en_core_web_lg==2.3.1) (0.4.1)\n",
      "Requirement already satisfied: catalogue<1.1.0,>=0.0.7 in /Users/johnkeefe/Code/jkeefe-github/black-lives-matter-words/.venv/lib/python3.7/site-packages (from spacy<2.4.0,>=2.3.0->en_core_web_lg==2.3.1) (1.0.0)\n",
      "Requirement already satisfied: murmurhash<1.1.0,>=0.28.0 in /Users/johnkeefe/Code/jkeefe-github/black-lives-matter-words/.venv/lib/python3.7/site-packages (from spacy<2.4.0,>=2.3.0->en_core_web_lg==2.3.1) (1.0.2)\n",
      "Requirement already satisfied: plac<1.2.0,>=0.9.6 in /Users/johnkeefe/Code/jkeefe-github/black-lives-matter-words/.venv/lib/python3.7/site-packages (from spacy<2.4.0,>=2.3.0->en_core_web_lg==2.3.1) (1.1.3)\n",
      "Requirement already satisfied: chardet<4,>=3.0.2 in /Users/johnkeefe/Code/jkeefe-github/black-lives-matter-words/.venv/lib/python3.7/site-packages (from requests<3.0.0,>=2.13.0->spacy<2.4.0,>=2.3.0->en_core_web_lg==2.3.1) (3.0.4)\n",
      "Requirement already satisfied: certifi>=2017.4.17 in /Users/johnkeefe/Code/jkeefe-github/black-lives-matter-words/.venv/lib/python3.7/site-packages (from requests<3.0.0,>=2.13.0->spacy<2.4.0,>=2.3.0->en_core_web_lg==2.3.1) (2020.6.20)\n",
      "Requirement already satisfied: urllib3!=1.25.0,!=1.25.1,<1.26,>=1.21.1 in /Users/johnkeefe/Code/jkeefe-github/black-lives-matter-words/.venv/lib/python3.7/site-packages (from requests<3.0.0,>=2.13.0->spacy<2.4.0,>=2.3.0->en_core_web_lg==2.3.1) (1.25.9)\n",
      "Requirement already satisfied: idna<3,>=2.5 in /Users/johnkeefe/Code/jkeefe-github/black-lives-matter-words/.venv/lib/python3.7/site-packages (from requests<3.0.0,>=2.13.0->spacy<2.4.0,>=2.3.0->en_core_web_lg==2.3.1) (2.9)\n",
      "Requirement already satisfied: importlib-metadata>=0.20; python_version < \"3.8\" in /Users/johnkeefe/Code/jkeefe-github/black-lives-matter-words/.venv/lib/python3.7/site-packages (from catalogue<1.1.0,>=0.0.7->spacy<2.4.0,>=2.3.0->en_core_web_lg==2.3.1) (1.6.1)\n",
      "Requirement already satisfied: zipp>=0.5 in /Users/johnkeefe/Code/jkeefe-github/black-lives-matter-words/.venv/lib/python3.7/site-packages (from importlib-metadata>=0.20; python_version < \"3.8\"->catalogue<1.1.0,>=0.0.7->spacy<2.4.0,>=2.3.0->en_core_web_lg==2.3.1) (3.1.0)\n",
      "Building wheels for collected packages: en-core-web-lg\n",
      "  Building wheel for en-core-web-lg (setup.py) ... \u001b[?25ldone\n",
      "\u001b[?25h  Created wheel for en-core-web-lg: filename=en_core_web_lg-2.3.1-py3-none-any.whl size=782936123 sha256=e8407d685816fb3961626fe39df099e3c3bd83d0cd9499ef7a5c0ed60044531f\n",
      "  Stored in directory: /private/var/folders/xd/jw3vyjlj22n1tq8jf3pfv1jr0000gn/T/pip-ephem-wheel-cache-buoz_1e2/wheels/41/75/77/c4a98e18b2c317a2a13931cbbea7e3ca7f3a21efc36adc1d71\n",
      "Successfully built en-core-web-lg\n",
      "Installing collected packages: en-core-web-lg\n",
      "Successfully installed en-core-web-lg-2.3.1\n",
      "\u001b[38;5;2m✔ Download and installation successful\u001b[0m\n",
      "You can now load the model via spacy.load('en_core_web_lg')\n"
     ]
    }
   ],
   "source": [
    "## *EVERYBODY* SHOULD RUN THIS CELL\n",
    "## Running this can take 3-5 minutes ... but that's normal\n",
    "## When it's done, you should see a line in green: \n",
    "## \"✔ Download and installation successful\"\n",
    "\n",
    "!pipenv install spacy\n",
    "!python -m spacy download en_core_web_lg\n",
    "\n",
    "import spacy\n",
    "import en_core_web_lg\n",
    "import json\n",
    "from os.path import exists"
   ]
  },
  {
   "cell_type": "code",
   "execution_count": 2,
   "metadata": {},
   "outputs": [
    {
     "name": "stdout",
     "output_type": "stream",
     "text": [
      "\u001b[39m\u001b[1mInstalling \u001b[32m\u001b[1mpandas\u001b[39m\u001b[22m…\u001b[39m\u001b[22m\n",
      "\u001b[K\u001b[39m\u001b[1mAdding\u001b[39m\u001b[22m \u001b[32m\u001b[1mpandas\u001b[39m\u001b[22m \u001b[39m\u001b[1mto Pipfile's\u001b[39m\u001b[22m \u001b[31m\u001b[1m[packages]\u001b[39m\u001b[22m\u001b[39m\u001b[1m…\u001b[39m\u001b[22m\n",
      "\u001b[K\u001b[?25h✔ Installation Succeeded\u001b[0m \n",
      "\u001b[31m\u001b[1mPipfile.lock (7221ac) out of date, updating to (7ea8e8)…\u001b[39m\u001b[22m\n",
      "\u001b[39m\u001b[22mLocking\u001b[39m\u001b[22m \u001b[31m\u001b[22m[dev-packages]\u001b[39m\u001b[22m \u001b[39m\u001b[22mdependencies…\u001b[39m\u001b[22m\n",
      "\u001b[39m\u001b[22mLocking\u001b[39m\u001b[22m \u001b[31m\u001b[22m[packages]\u001b[39m\u001b[22m \u001b[39m\u001b[22mdependencies…\u001b[39m\u001b[22m\n",
      "\u001b[KBuilding requirements...\n",
      "\u001b[KResolving dependencies...\n",
      "\u001b[K\u001b[?25h\u001b[32m\u001b[22m✔ Success!\u001b[39m\u001b[22m\u001b[0m \n",
      "\u001b[39m\u001b[1mUpdated Pipfile.lock (7ea8e8)!\u001b[39m\u001b[22m\n",
      "\u001b[39m\u001b[1mInstalling dependencies from Pipfile.lock (7ea8e8)…\u001b[39m\u001b[22m\n",
      "  🐍   \u001b[32m\u001b[1m▉\u001b[39m\u001b[22m\u001b[32m\u001b[1m▉\u001b[39m\u001b[22m\u001b[32m\u001b[1m▉\u001b[39m\u001b[22m\u001b[32m\u001b[1m▉\u001b[39m\u001b[22m\u001b[32m\u001b[1m▉\u001b[39m\u001b[22m\u001b[32m\u001b[1m▉\u001b[39m\u001b[22m\u001b[32m\u001b[1m▉\u001b[39m\u001b[22m\u001b[32m\u001b[1m▉\u001b[39m\u001b[22m\u001b[32m\u001b[1m▉\u001b[39m\u001b[22m\u001b[32m\u001b[1m▉\u001b[39m\u001b[22m\u001b[32m\u001b[1m▉\u001b[39m\u001b[22m\u001b[32m\u001b[1m▉\u001b[39m\u001b[22m\u001b[32m\u001b[1m▉\u001b[39m\u001b[22m\u001b[32m\u001b[1m▉\u001b[39m\u001b[22m\u001b[32m\u001b[1m▉\u001b[39m\u001b[22m\u001b[32m\u001b[1m▉\u001b[39m\u001b[22m\u001b[32m\u001b[1m▉\u001b[39m\u001b[22m\u001b[32m\u001b[1m▉\u001b[39m\u001b[22m\u001b[32m\u001b[1m▉\u001b[39m\u001b[22m\u001b[32m\u001b[1m▉\u001b[39m\u001b[22m\u001b[32m\u001b[1m▉\u001b[39m\u001b[22m\u001b[32m\u001b[1m▉\u001b[39m\u001b[22m\u001b[32m\u001b[1m▉\u001b[39m\u001b[22m\u001b[32m\u001b[1m▉\u001b[39m\u001b[22m\u001b[32m\u001b[1m▉\u001b[39m\u001b[22m\u001b[32m\u001b[1m▉\u001b[39m\u001b[22m\u001b[32m\u001b[1m▉\u001b[39m\u001b[22m\u001b[32m\u001b[1m▉\u001b[39m\u001b[22m\u001b[32m\u001b[1m▉\u001b[39m\u001b[22m\u001b[32m\u001b[1m▉\u001b[39m\u001b[22m\u001b[32m\u001b[1m▉\u001b[39m\u001b[22m\u001b[32m\u001b[1m▉\u001b[39m\u001b[22m 11/11 — \u001b[30m\u001b[22m00:00:19\u001b[39m\u001b[22m22m2m22m22m22m22m22m22m22m22m2m\n",
      "\u001b[0m"
     ]
    }
   ],
   "source": [
    "!pipenv install pandas"
   ]
  },
  {
   "cell_type": "code",
   "execution_count": null,
   "metadata": {
    "colab": {},
    "colab_type": "code",
    "id": "jRXOMv23AF3R"
   },
   "outputs": [],
   "source": [
    "import pandas as pd"
   ]
  },
  {
   "cell_type": "markdown",
   "metadata": {
    "colab_type": "text",
    "id": "ezEMpvHJ3rpk"
   },
   "source": [
    "## The Data"
   ]
  },
  {
   "cell_type": "markdown",
   "metadata": {
    "colab_type": "text",
    "id": "BW5XuS5B3rpm"
   },
   "source": [
    "This file was provided by Newslens and covers articles they downloaded for the previous two days starting about 7 pm Eastern on Monday, March 9, 2020."
   ]
  },
  {
   "cell_type": "code",
   "execution_count": 2,
   "metadata": {
    "colab": {
     "base_uri": "https://localhost:8080/",
     "height": 34
    },
    "colab_type": "code",
    "id": "pPycS4yI3rpn",
    "outputId": "1d8c0ed8-897c-4f47-d228-02e033810e00"
   },
   "outputs": [
    {
     "name": "stdout",
     "output_type": "stream",
     "text": [
      "Done!\n"
     ]
    }
   ],
   "source": [
    "# Run this cell to download the data we'll use for this exercise\n",
    "!wget -N https://www.dropbox.com/s/qhnjczden1sfkby/data_dump_analysis.json?dl=0\n",
    "print('Done!')"
   ]
  },
  {
   "cell_type": "markdown",
   "metadata": {
    "colab_type": "text",
    "id": "ibllkB0E3rpq"
   },
   "source": [
    "Let's look at what we have."
   ]
  },
  {
   "cell_type": "code",
   "execution_count": 3,
   "metadata": {
    "colab": {
     "base_uri": "https://localhost:8080/",
     "height": 34
    },
    "colab_type": "code",
    "id": "OwTwZclU3rpr",
    "outputId": "0fb15192-9033-4444-d9ee-19e086abb4cd",
    "scrolled": true
   },
   "outputs": [
    {
     "name": "stdout",
     "output_type": "stream",
     "text": [
      "'data_dump_analysis.json?dl=0'   \u001b[0m\u001b[01;34msample_data\u001b[0m/\n"
     ]
    }
   ],
   "source": [
    "%ls "
   ]
  },
  {
   "cell_type": "code",
   "execution_count": null,
   "metadata": {
    "colab": {},
    "colab_type": "code",
    "id": "tlRvRi07nFWf"
   },
   "outputs": [],
   "source": [
    "%mv data_dump_analysis.json?dl=0 data_dump_analysis.json"
   ]
  },
  {
   "cell_type": "code",
   "execution_count": 14,
   "metadata": {
    "colab": {
     "base_uri": "https://localhost:8080/",
     "height": 34
    },
    "colab_type": "code",
    "id": "Gy_Itq_4nOqs",
    "outputId": "a8a18405-8203-478b-b4d1-897fdabbd082"
   },
   "outputs": [
    {
     "name": "stdout",
     "output_type": "stream",
     "text": [
      "data_dump_analysis.json  \u001b[0m\u001b[01;34msample_data\u001b[0m/\n"
     ]
    }
   ],
   "source": [
    "%ls"
   ]
  },
  {
   "cell_type": "markdown",
   "metadata": {
    "colab_type": "text",
    "id": "x8gveu1h3rpu"
   },
   "source": [
    "## Trying spaCy's entity extraction feature"
   ]
  },
  {
   "cell_type": "code",
   "execution_count": null,
   "metadata": {
    "colab": {},
    "colab_type": "code",
    "id": "y-_IKlRm3rpv"
   },
   "outputs": [],
   "source": [
    "# First we load the model into the notebook\n",
    "nlp = en_core_web_lg.load()"
   ]
  },
  {
   "cell_type": "code",
   "execution_count": null,
   "metadata": {
    "colab": {},
    "colab_type": "code",
    "id": "QPQcAmcf3rpz",
    "scrolled": true
   },
   "outputs": [],
   "source": [
    "# Now let's give it a try\n",
    "doc = nlp(u\"San Francisco considers banning sidewalk huge delivery robots\")\n"
   ]
  },
  {
   "cell_type": "markdown",
   "metadata": {
    "colab_type": "text",
    "id": "0mmdxPs7l0QM"
   },
   "source": [
    "Let's analyze the parts of speech, [from this spaCy documentaiton](https://spacy.io/usage/linguistic-features)."
   ]
  },
  {
   "cell_type": "code",
   "execution_count": 12,
   "metadata": {
    "colab": {
     "base_uri": "https://localhost:8080/",
     "height": 655
    },
    "colab_type": "code",
    "id": "QdzIa7TW3rp2",
    "outputId": "cfeef6ca-8f15-4d1c-8027-131a9eb7e141"
   },
   "outputs": [
    {
     "name": "stdout",
     "output_type": "stream",
     "text": [
      "\n",
      " SPACE\n",
      "John PROPN\n",
      "drove VERB\n",
      "his DET\n",
      "blue ADJ\n",
      "Volkswagen PROPN\n",
      "Golf PROPN\n",
      "north NOUN\n",
      "on ADP\n",
      "Interstate PROPN\n",
      "35 NUM\n",
      "to ADP\n",
      "Duluth PROPN\n",
      ", PUNCT\n",
      "Minnesota PROPN\n",
      ", PUNCT\n",
      "\n",
      " SPACE\n",
      "where ADV\n",
      "he PRON\n",
      "stopped VERB\n",
      "at ADP\n",
      "the DET\n",
      "Aerial PROPN\n",
      "Lift PROPN\n",
      "Bridge PROPN\n",
      "and CCONJ\n",
      "looked VERB\n",
      "out ADP\n",
      "over ADP\n",
      "\n",
      " SPACE\n",
      "Lake PROPN\n",
      "Superior PROPN\n",
      ". PUNCT\n",
      "\n",
      " SPACE\n"
     ]
    }
   ],
   "source": [
    "for token in doc:\n",
    "    print(token.text, token.pos_)"
   ]
  },
  {
   "cell_type": "markdown",
   "metadata": {
    "colab_type": "text",
    "id": "1He7j8-X3rp5"
   },
   "source": [
    "There's [a whole list of entities spaCy can detect](https://spacy.io/api/annotation#named-entities)!"
   ]
  },
  {
   "cell_type": "code",
   "execution_count": null,
   "metadata": {
    "colab": {},
    "colab_type": "code",
    "id": "fRyH0kJ93rp6"
   },
   "outputs": [],
   "source": [
    "my_story = \"\"\"\n",
    "John drove his blue Volkswagen Golf north on Interstate 35 to Duluth, Minnesota,\n",
    "where he stopped at the Aerial Lift Bridge and looked out over\n",
    "Lake Superior. \n",
    "\"\"\"\n",
    "\n",
    "doc = nlp(my_story)"
   ]
  },
  {
   "cell_type": "code",
   "execution_count": 15,
   "metadata": {
    "colab": {
     "base_uri": "https://localhost:8080/",
     "height": 34
    },
    "colab_type": "code",
    "id": "C_aOlW81pzRo",
    "outputId": "1817632f-32ca-4f2e-bc2f-5314ad396f56"
   },
   "outputs": [
    {
     "data": {
      "text/plain": [
       "True"
      ]
     },
     "execution_count": 15,
     "metadata": {
      "tags": []
     },
     "output_type": "execute_result"
    }
   ],
   "source": [
    "\"drove\" in my_story"
   ]
  },
  {
   "cell_type": "markdown",
   "metadata": {
    "colab_type": "text",
    "id": "D8mtlX2a3rqG"
   },
   "source": [
    "Loading the JSON file we got from Newslens"
   ]
  },
  {
   "cell_type": "code",
   "execution_count": 101,
   "metadata": {
    "colab": {
     "base_uri": "https://localhost:8080/",
     "height": 104
    },
    "colab_type": "code",
    "id": "mqW7OlaA3rqH",
    "outputId": "842366bf-5902-40ef-9cab-eb4031663de3"
   },
   "outputs": [
    {
     "name": "stdout",
     "output_type": "stream",
     "text": [
      "safest https://www.nytimes.com/2020/03/06/business/coronavirus-stock-market.html\n",
      "['biggest', 'financial', 'double', 'global', 'industrial', 'huge', 'asian', 'worldwide', 'economic', 'such', 'crude', 'biggest', 'single', 'first', 'chief', 'international', 'more', 'more', 'large', 'more', 'rich', 'closed', 'large', 'possible', 'worst', 'global', 'financial', 'australian', 'double', 'fresh', 'japanese', 'safe', 'benchmark', 'genuine', 'chief', 'clearer', 'clear', 'such', 'global', 'simultaneous', 'chief', 'biggest', 'distinct', 'worst', 'next', 'several', 'weaker', 'chinese', 'global', 'last', 'severe', 'global', 'worst', 'dramatic', 'british', 'severe', 'biggest', 'last', 'underlying', 'certain', 'political', 'economic', 'marginal', 'general', 'significant', 'greater', 'political', 'economic', 'new', 'next', 'crucial', 'biggest', 'top', 'ferocious', 'main', 'crude', 'last', 'crude', 'largest', 'biggest', 'crude', 'saudi', 'more', 'dependent', 'global', 'huge', 'crude', 'unprecedented', 'huge', 'financial', 'asian', 'more', 'lower', 'rich', 'unprecedented', 'less', 'senior', 'intent', 'next', 'few', 'economic', 'huge', 'crude', 'global', 'extended', 'key', 'monetary', 'uncontrollable', 'deflationary', 'low', 'new', 'reminiscent', 'less', 'global', 'biggest', 'financial', 'double', 'global', 'asian', 'huge', 'such', 'crude', 'biggest', 'international', 'more', 'more', 'italian', 'worst', 'global', 'financial', 'australian', 'more', 'fresh', 'japanese', 'safe', 'global', 'simultaneous', 'medical', 'monetary', 'fiscal', 'more', 'future', 'serious', 'downside', 'different', 'monetary', 'massive', 'early', 'crucial', 'automatic', 'financial', 'last', 'benchmark', 'last', 'proprietary', 'bright', 'crazy', 'covid-19', 'long', 'nervous', 'covid-19', 'bad', 'potential', 'financial', 'probable', 'worried', 'oversold', 'surprised', 'biggest', 'ugly', 'little', 'cooler', 'better', 'nervous', 'chief', 'perfect', 'third', 'financial', 'financial', 'brittle', 'early', 'entire', 'intense', 'hard', 'fragile', 'big', 'deep', 'long', 'long', 'economic', 'least', 'whole', 'more', 'best', 'low', 'single', 'best', 'flat', 'worse', 'less', 'possible', 'positive', 'possible', 'negative', 'great', 'strategic', 'important', 'retail', 'right', 'enough', 'american', 'expensive', 'sure', 'worst', 'more', 'worried', 'good', 'good', 'senior', 'unlikely', 'central', 'short', 'technical', 'ugly', 'high', 'retail', 'deflationary', 'deflationary', 'new', 'technical', 'ugly', 'more', 'longer', 'global', 'likely', 'next', 'chief', 'spartan', 'sharp', 'lower', 'global', 'economic', 'limited', 'new', 'quantitative', 'real', 'lower', 'good', 'worse', 'good', 'other', 'more', 'more', 'lasting', 'presidential', 'good', 'bad', 'upper', 'much', 'negative', 'national', 'positive', 'most', 'financial', 'great', 'realistic', 'hard', 'global', 'steepest', 'financial', 'economic', 'worst', 'lowest', 'more', 'first', 'economic', 'british', 'northern', 'positive', 'infected', '26-year', 'old', 'italian', 'prime', 'darkest', 'worth', 'secure', 'biggest', 'severe', 'global', 'smaller', 'eurozone', 'sovereign', 'biggest', 'more', 'global', 'worst', 'global', 'bitter', 'international', 'steepest', 'first', 'more', 'sustained', 'heavy', 'other', 'financial', 'pure', 'twin', 'future', 'extreme', 'financial', 'highest', 'worse', 'better', 'latest', 'safe', 'german', 'lowest', 'more', 'opposite', 'first', 'negative', 'first', 'highest', 'financial', 'other', 'fragile', 'first', 'last', 'further', 'current', 'global', 'de', '-', 'facto', 'sweeping', 'critical', 'coordinated', 'international', 'protectionist', 'global', 'global', 'chief', 'likely', 'worst', 'sharp', 'short', 'outright', 'good', 'worst', 'likely', 'silver', 'biggest', 'prepared', 'sharp', 'financial', 'biggest', 'reminiscent', 'financial', 'financial', 'stronger', 'more', 'last', 'deadly', 'respiratory', 'daily', 'latest', 'beleaguered', 'first', 'international', 'positive', 'novel', 'able', 'unspecified', 'non', '-', 'commercial', 'medical', 'dull', 'queasy', 'small', 'windowless', 'young', 'nauseated', 'happy', 'sure', 'big', 'hot', 'ill', 'non', '-', 'commercial', 'positive', 'unclear', 'reminiscent', 'largest', 'statewide', 'respiratory', 'more', 'more', 'more', 'economic', 'central', 'secondary', 'familiar', 'past', 'positive', 'next', 'operational', 'uncomfortable', 'covid-19', 'operational', 'novel', 'worried', 'worried', 'focused', 'american', 'worse', 'sharp', 'federal', 'illegal', 'vital', 'other', 'dependent', 'left', 'more', 'good', 'personal', 'fiscal', 'rampant', 'few', 'dark', 'afraid', 'famous', 'closed', 'endless', 'great', 'up', 'real', 'impossible', 'true', 'early', 'open', 'romantic', 'few', 'beautiful', 'presidential', 'long', 'biggest', 'steady', 'outdoor', 'few', 'perfect', 'economic', 'considerable', 'whole', 'jittery', 'new', 'accurate', 'most', 'professional', 'afraid', 'more', 'insurmountable', 'better', 'political', 'anti', '-', 'careful', 'empty', 'finest', 'more', 'cleaner', 'predictable', 'scared', 'local', 'particular', 'record', 'interested', 'record', 'more', 'new', 'economic', 'fewer', 'fewer', 'sick', 'basic', 'afraid', 'helpful', 'damn', 'real', 'worst', 'central', 'ready', 'first', 'financial', 'central', 'more', 'financial', 'most', 'little', 'real', 'desperate', 'subprime', '12bn', 'poor', 'weakest', 'high', 'global', 'executive', 'much', 'substantial', 'whole', 'global', 'global', 'swiss', 'massive', 'novel', 'major', 'strong', 'temporary', 'swiss', 'fewer', 'solid', 'short', 'better', 'swiss', 'lower', 'foreign', 'digital', 'swiss', 'actual', 'important', 'middle', 'upper', 'more', 'more', 'first', 'more', 'only', 'sharp', 'last', 'second', 'due', 'pro', '-', 'democracy', 'notable', 'third', 'last', 'swiss', 'other', 'false', 'only', 'mid', '-', 'many', 'online', 'online', 'lower', 'swiss', 'strong', 'swiss', 'central', 'other', 'lower', 'elderly', 'fragile', 'commercial', 'due', 'deadly', 'federal', 'direct', 'certain', 'able', 'complete', 'similar', 'narrower', 'older', 'serious', 'senior', 'serious', 'underlying', 'good', 'common', 'political', 'older', 'severe', 'medical', 'such', 'possible', 'human', 'older', 'healthy', 'positive', 'apparent', 'elderly', 'global', 'recent', 'political', 'sociopathic', 'dangerous', 'double', 'explicit', 'political', 'presidential', 'most', 'mild', 'moderate', 'deadly', 'more', 'latest', 'additional', 'economic', 'likely', 'large', 'global', 'little', 'more', 'unintended', 'global', 'global', 'same', 'last', 'equivalent', 'annual', 'much', 'other', 'major', 'global', 'global', 'temporary', 'structural', 'advisory', 'impatient', 'intensive', 'global', 'initial', 'environmental', 'lead', 'new', 'cheap', 'blind', 'inefficient', 'retaliatory', 'clean', 'horrendous', 'more', 'modest', 'global', 'pre', '-', 'industrial', 'feasible', 'more', 'least', 'global', 'next', '1.5c', 'global', 'economic', 'neutral', 'unpalatable', 'other', 'unlikely', 'modest', 'economic', 'sure', 'global', 'upcoming', 'non', '-', 'stop', 'successful', 'largest', 'global', 'crucial', 'likely', 'main', 'last', 'preliminary', 'dependent', 'multi', '-', 'out', 'opec+', 'deeper', 'novel', 'top', 'significant', 'public', 'saudi', 'largest', 'first', 'lowest', 'initial', 'public', 'first', 'saudi', 'biggest', 'saudi', 'much', 'saudi', 'high', 'economic', 'exclusive', 'mass', 'saudi', 'saudi', 'worst', 'lowest', 'largest', 'lowest', 'tiny', 'out', 'biggest', 'past', 'unprecedented', 'less', 'crude', 'global', 'higher', 'lower', 'inevitable', 'new', 'reminiscent', 'less', 'chief', 'royal', 'good', 'exclusive', 'mass', 'saudi', 'elder', 'sure', 'younger', 'full', 'last', 'public', 'full', 'polite', 'second', 'clear', 'keen', 'more', 'close', 'royal', 'total', 'second', 'external', 'internal', 'concerned', 'second', 'presidential', 'democratic', 'saudi', 'accountable', 'criminal', 'last', 'last', 'more', 'saudi', 'other', 'first', 'latest', 'latest', 'rapid', 'muslim', 'annual', 'due', 'crude', 'economic', 'saudi', 'lowest', 'first', 'first', 'delicate', 'generational', 'most', 'big', 'last', 'saudi', 'loyal', 'generational', 'delicate', 'generational', 'large', 'eligible', 'clear', 'displeased', 'other', 'fitting', 'past', 'extraordinary', 'most', 'economic', 'usual', 'top', 'safe', 'new', 'sudden', 'economic', 'first', 'biggest', 'financial', 'ready', 'further', 'low', 'central', 'worse', 'real', 'fiscal', 'much', 'scared', 'informed', 'global', 'daily', 'bipartisan', 'elderly', 'higher', 'medical', 'local', 'scarce', 'available', 'unclear', 'affordable', 'many', 'more', 'worldwide', 'new', 'chief', 'problematic', 'next', 'democratic', 'presidential', 'anti', '-', 'congressional', 'former', 'narrow', 'vast', 'digital', 'unaccountable', 'sexual', 'new', 'bipartisan', 'legal', 'online', 'sexual', 'strong', 'broad', 'incompatible', 'more', 'former', 'fancy', 'criminal', 'larger', 'troubled', 'more', 'federal', 'latest', 'federal', 'new', 'longtime', 'chief', 'successful', 'senior', 'political', 'election', 'misleading', 'ready', 'final', 'federal', 'more', 'prepared', 'prepared', 'continuous', 'democratic', 'presidential', 'democratic', 'next', 'big', 'democratic', 'more', 'key', 'former', 'unidentified', 'female', 'sure', 'big', 'more', 'democratic', 'first', 'big', 'to-', 'first', 'latest', 'positive', 'latest', 'only', 'proactive', 'proactive', 'equipped', 'true', 'annual', 'turbulent', 'staunch', 'special', 'possible', 'latest', 'more', 'democratic', 'presidential', 'disastrous', 'entire', 'hard', 'other', 'right', 'decent', 'pathological', 'corrupt', 'important', 'stronger', 'able', 'long', 'disastrous', 'able', 'true', 'old', 'big', 'disastrous', 'terrible', 'little', 'many', 'practical', 'big', 'biggest', 'major', 'upset', 'many', 'white', 'other', 'ridiculous', 'overwhelming', 'african', 'american', 'suburban', 'first', 'industrial', 'serious', 'damaging', 'largest', 'latino', 'big', 'young', 'young', 'young', 'sure', 'young', 'minimum', 'young', 'affordable', 'young', 'massive', 'more', 'bottom', 'concerned', 'concerned', 'general', 'good', 'last', 'big', 'last', 'last', 'few', 'more', 'more', 'extra', 'personal', 'top', 'more', 'bottom', 'last', 'top', 'bottom', 'real', 'stagnant', 'last', 'more', 'real', 'homeless', 'rich', 'richer', 'uninsured', 'young', 'right', 'whole', 'new', 'other', 'huge', 'unimaginable', 'various', 'great', 'great', 'more', 'other', 'democratic', 'good', 'worth', 'significant', 'enough', 'enough', 'last', 'important', 'major', 'quick', 'other', 'low', 'significant', 'more', 'certain', 'congressional', 'american', 'political', 'wrong', 'insensitive', 'political', 'political', 'terrible', 'authoritarian', 'authoritarian', 'old', 'fashioned', 'nice', 'nice', 'fascinating', 'sensible', 'last', 'warm', 'poor', 'hot', 'whole', 'cold', 'old', 'favorite', 'great', 'great', 'heavyweight', 'extraordinary', 'human', 'loved', 'real', 'true', 'political', 'busy', 'safe', 'new', 'alive', 'reenergized', 'democratic', 'political', 'former', 'democratic', 'democratic', 'solid', 'front', 'possible', 'more', 'former', 'democratic', 'better', 'solid', 'democratic', 'possible', 'solid', 'strong', 'former', 'presidential', 'last', 'unbeatable', 'more', 'real', 'comfortable', 'sorry', 'young', 'smaller', 'anti', '-', 'last', 'big', 'political', 'fourth', 'little', 'earnest', 'ideological', 'reluctant', 'loyal', 'fierce', 'close', 'republican', 'well-', 'first', 'political', 'political', 'deep', 'american', 'exact', 'strong', 'like', 'low', 'disloyal', 'reluctant', 'much', 'loyal', 'little', 'disciplined', 'own', 'little', 'top', 'infectious', 'short', 'beautiful', 'other', 'public', 'medical', 'economic', 'infectious', 'good', 'latest', 'more', 'more', 'close', 'certain', 'entire', 'northern', 'extraordinary', 'realistic', 'draconian', 'social', 'crowded', 'important', 'venerable', 'underlying', 'vulnerable', 'elderly', 'underlying', 'chronic', 'high', 'crowded', 'possible', 'real', 'single', 'possible', 'appropriate', 'latest', '-', 'occupied', 'comfortable', 'hot', 'appropriate', 'sick', 'available', 'quick', 'outside', 'unidentified', 'deployable', 'earliest', 'earliest', 'available', 'pharmaceutical', 'least', 'least', 'best', 'longer', 'fastest', 'deployable', 'next', 'many', 'beautiful', 'enough', 'technical', 'additional', 'least', 'private', 'available', 'realistic', 'more', 'first', 'technical', 'public', 'local', 'private', 'american', 'own', 'fine', 'sure', 'few', 'possible', 'many', 'hard', 'dynamic', 'best', 'truthful', 'american', 'elderly', 'fragile', 'commercial', 'true', 'elderly', 'fragile', 'loud', 'more', 'american', 'elderly', 'long', 'able', 'last', 'few', 'raspy', 'raspy', 'much', 'straight', 'good', 'perfect', 'perfect', 'perfect', 'public', 'prior', 'good', 'early', 'broader', 'little', 'public', 'real', 'worried', 'legitimate', 'economic', 'partisan', 'red', 'critical', 'great', 'like', 'good', 'serious', 'medical', 'economic', 'political', 'strong', 'economic', 'low', 'serious', 'serious', 'worried', 'uncharted', 'serious', 'higher', 'bad', 'worse', 'dismissive', 'good', 'second', 'third', 'largest', 'solid', 'good', 'dramatic', 'warmer', 'legitimate', 'legitimate', 'public', 'other', 'reassuring', 'accurate', 'legitimate', 'different', 'american', 'contrary', 'scientific', 'great', 'fake', 'different', 'true', 'overblown', 'public', 'serious', 'human', 'personal', 'former', 'little', 'serious', 'high', 'gentler', 'quiet', 'medical', 'serious', 'public', 'public', 'incapable', 'american', 'comfortable', 'next', 'thin', 'more', 'sure', 'former', 'unidentified', 'unidentified', 'new', 'accessible', 'unidentified', 'iconic', 'big', 'largest', 'female', 'local', 'less', 'non', '-', 'profit', 'same', 'amazing', 'outdoor', 'unidentified', 'stiff', 'many', 'amazing', 'few', 'beautiful', 'blue', 'same', 'better', 'own', 'female', 'great', 'next', 'prior', 'other', 'usual', 'large', 'italian', 'financial', 'additional', 'other', 'main', 'aware', 'potential', 'next', 'fluid', 'potential', 'italian', 'next', 'public', 'far', 'good', 'main', 'top', 'widespread', 'more', 'new', 'financial', 'other', 'other', 'european', 'similar', 'new', 'first', 'daily', 'less', 'third', 'positive', '82-year', 'old', 'aged', 'other', 'positive', 'controversial', 'resounding', 'rapid', 'fifth', 'complete', 'last', 'mild', 'positive', 'victorian', 'domestic', 'personal', 'senior', 'second', 'domestic', 'crude', 'international', 'worth', 'enough', 'crude', 'last', 'absent', 'memorable', 'polarising', 'new', 'saudi', 'former', 'democratic', 'presidential', 'main', 'electoral', 'various', 'credible', 'last', 'volatile', 'inconclusive', 'prime', 'unable', 'parliamentary', 'british', 'australian', 'menstrual', 'powerful', 'whole', 'menstrual', 'untapped', 'hormonal', 'greatest', 'bad', 'disturbing', 'reluctant', 'addictive', 'medical', 'high', 'thin', 'worldwide', 'global', 'dramatic', 'senior', 'bad', 'closed', 'second', 'latest', 'sporting', 'fifth', 'further', 'major', 'positive', 'front', 'australian', 'stimulus', 'dry', 'local', 'temporary', 'eastern', 'large', 'muslim', 'more', 'saudi', 'new', 'new', 'interior', 'saudi', 'important', 'holy', 'saudi', 'legal', 'saudi', 'national', 'highest', 'saudi', 'commercial', 'public', 'private', 'precautionary', 'vital', 'necessary', 'main', 'saudi', 'saudi', 'commercial', 'saudi', 'several', 'other', 'new', 'more', 'central', 'more', 'total', 'crude', 'wider', 'more', 'infected', 'egyptian', 'foreign', 'southern', 'negative', 'foreign', 'positive', 'egyptian', 'respective', 'clear', 'other', 'other', 'spectacular', 'top', 'first', 'last', 'first', 'chinese', 'other', 'political', 'greatest', 'stronger', 'democratic', 'own', 'last', 'several', 'novel', 'public', 'chief', 'clearer', 'unanswered', 'general', 'big', 'slow', 'different', 'own', 'top', 'public', 'political', 'early', 'former', 'diagnostic', 'own', 'unpredictable', 'best', 'worst', 'strong', 'biggest', 'own', 'solid', 'american', 'strong', 'strong', 'great', 'high', 'political', 'second', 'democratic', 'moderate', 'consolidated', 'democratic', 'concerned', 'last', 'internal', 'crucial', 'much', 'public', 'stronger', 'registered', 'last', 'larger', 'general', 'democratic', 'primary', 'formidable', 'long', 'potential', 'ukrainian', 'negative', 'former', 'crucial', 'unfounded', 'false', 'major', 'ukrainian', 'worth', 'former', 'poor', 'significant', 'more', 'democratic', 'eventual', 'super', 'super', 'pro', '-', 'biden', 'former', 'only', 'subject', 'veteran', 'low', 'huge', 'able', 'huge', 'super', 'same', 'direct', 'single', 'more', 'extreme', 'left', 'asian', 'economic', 'more', 'official', 'top', 'reminiscent', 'crude', 'chaotic', 'safe', 'russian', 'mexican', 'fiscal', 'vast', 'sovereign', 'prolonged', 'low', 'global', 'fragile', 'severe', 'uneconomic', 'certain', 'e', '-', 'mini', 'more', 'full', 'more', 'more', 'economic', 'intense', 'large', 'financial', 'more', 'central', 'viral', 'many', 'little', 'half', 'scheduled', 'last', 'urgent', 'global', 'latest', 'global', 'average', 'developed', 'lowest', 'clearest', 'exogenous', 'huge', 'unthinkable', 'long', 'largest', 'daily', 'largest', 'weekly', 'early', 'late', 'highest', 'fresh', 'asian', 'out', 'ongoing', 'perfect', 'bad', 'steep', 'major', 'red', 'safe', 'new', 'historic', 'low', 'entire', 'first', 'global', 'awash', 'international', 'eastern', 'lowest', 'dramatic', 'biggest', 'more', 'other', 'much', 'new', 'less', 'chief', 'awe', 'resurgent', 'recent', 'brutal', 'dizzying', 'financial', 'last', 'much', 'corporate', '11th', 'financial', 'safe', 'little', 'first', 'mild', 'moderate', 'new', 'sure', 'much', 'more', 'new', 'other', 'solid', 'short', 'potential', 'more', 'other', '11-year', 'most', 'crude', 'much', 'biggest', 'first', 'lowest', 'much', 'biggest', 'first', 'lowest', 'biggest', 'largest', 'other', 'economic', 'crude', 'current', 'crude', 'most', 'other', 'major', 'biggest', 'shale', 'last', 'likely', 'limited', 'tactical', 'likely', 'painful', 'several', 'low', 'official', 'crude', 'largest', 'largest', 'other', 'major', 'such', 'major', 'such', 'global', 'other', 'asian', 'big', 'highest', 'safe', 'high', 'positive', 'larger', 'north', 'positive', 'new', 'sure', 'possible', 'only', 'high', '16-year', 'old', 'positive', 'close', 'more', 'hefty', 'economic', 'central', 'monetary', 'public', 'unprecedented', 'entire', 'global', 'likely', 'significant', 'absolute', 'sure', 'prepared', 'vast', 'best', 'general', 'more', 'special', 'possible', 'prepared', 'further', 'hulking', 'likely', 'subject', 'other', 'international', 'such', 'last', 'military', 'least', 'last', 'more', 'latest', 'best', 'promotional', 'stricter', 'further', 'heavy', 'large', 'likely', 'more', 'largest', 'enhanced', 'subject', 'close', 'local', 'absolute', 'crowded', 'prone', 'multiple', 'medical', 'respiratory', 'gastrointestinal', 'preventable', 'contagious', 'international', 'many', 'future', 'least', 'nationwide', 'more', 'more', 'big', 'financial', 'other', 'biggest', 'daily', 'big', 'crude', 'much', 'saudi', 'further', 'steep', 'global', 'crude', 'lowest', 'biggest', 'daily', 'first', 'lowest', 'biggest', 'chief', 'other', 'more', 'economic', 'crude', 'current', 'biggest', 'largest', 'last', 'crude', 'most', 'other', 'major', 'biggest', 'shale', 'last', 'likely', 'limited', 'tactical', 'likely', 'painful', 'several', 'low', 'fundamental', 'official', 'crude', 'largest', 'biggest', 'other', 'major', 'such', 'major', 'such', 'global', 'second', 'third', 'other', 'asian', 'big', 'highest', 'safe', 'crude', 'official', 'steep', 'economic', 'sharp', 'recent', 'high', 'upward', 'chief', 'manageable', 'benchmark', 'much', 'adverse', 'economic', 'prescient', 'first', 'benchmark', 'historic', 'normal', 'positive', 'global', 'chief', 'senior', 'blunt', 'crude', 'current', 'much', 'wealthy', 'financial', 'more', 'more', 'light', 'global', 'entire', 'central', 'economic', 'financial', 'sharpest', 'past', 'decent', 'scary', 'more', 'similar', 'last', 'previous', 'awful', 'little', 'bad', 'flat', 'modern', 'unprecedented', 'hard', 'financial', 'many', 'unable', 'immediate', 'sure', 'safe', 'small', 'backup', 'informed', 'global', 'daily', 'global', 'safest', 'higher', 'first', 'less', 'sudden', 'global', 'many', 'few', 'sophisticated', 'financial', 'blind', 'chief', 'financial', 'such', 'black', 'rare', 'ominous', 'impossible', 'terrorist', 'calamitous', 'exogenous', 'financial', 'giant', 'first', 'deadly', 'widespread', 'disruptive', 'domestic', 'global', 'flawless', 'hopeless', 'alternative', 'young', 'pre', '-', 'emptive', 'such', 'hard', 'black', 'exogenous', 'more', 'traditional', 'financial', 'monetary', 'central', 'effective', 'financial', 'unnerving', 'apparent', 'greatest', 'benchmark', 'downward', 'monetary', 'long', 'central', 'new', 'wider', 'less', 'modest', 'upbeat', 'american', 'great', 'chief', 'opposite', 'next', 'cheerful', 'top', 'economic', 'more', 'wild', 'certain', 'much', 'unprecedented', 'particular', 'intense', 'more', 'great', 'big', 'biggest', 'dramatic', 'crude', 'much', 'third', 'further', 'steep', 'global', 'crude', 'lowest', 'biggest', 'daily', 'first', 'lowest', 'biggest', 'chief', 'other', 'more', 'economic', 'crude', 'current', 'biggest', 'largest', 'last', 'other', 'major', 'biggest', 'shale', 'last', 'quick', 'crude', 'official', 'crude', 'largest', 'biggest', 'other', 'major', 'such', 'major', 'such', 'global', 'second', 'third', 'other', 'asian', 'big', 'highest', 'safe', 'official', 'dramatic', 'crude', 'global', 'much', 'third', 'steep', 'economic', 'crude', 'lowest', 'biggest', 'daily', 'first', 'lowest', 'biggest', 'chief', 'other', 'more', 'economic', 'crude', 'current', 'biggest', 'largest', 'last', 'other', 'major', 'biggest', 'shale', 'last', 'dire', 'significant', 'official', 'crude', 'largest', 'biggest', 'other', 'major', 'such', 'other', 'major', 'such', 'global', 'second', 'third', 'other', 'asian', 'highest', 'safe', 'biggest', 'financial', 'double', 'global', 'industrial', 'huge', 'asian', 'worldwide', 'economic', 'such', 'crude', 'biggest', 'single', 'first', 'chief', 'international', 'more', 'more', 'large', 'more', 'rich', 'closed', 'large', 'possible', 'worst', 'global', 'financial', 'australian', 'double', 'fresh', 'japanese', 'safe', 'benchmark', 'genuine', 'chief', 'clearer', 'clear', 'such', 'global', 'simultaneous', 'chief', 'biggest', 'distinct', 'worst', 'next', 'several', 'weaker', 'chinese', 'global', 'last', 'severe', 'global', 'worst', 'dramatic', 'british', 'severe', 'biggest', 'last', 'underlying', 'certain', 'political', 'economic', 'marginal', 'general', 'significant', 'greater', 'political', 'economic', 'new', 'next', 'crucial', 'australian', 'worst', 'global', 'financial', 'widespread', 'positive', 'further', 'unwell', 'sick', 'alive', 'public', 'unprecedented', 'entire', 'global', 'benchmark', 'overall', 'more', 'fifth', 'official', 'retail', 'low', 'australian', 'low', 'financial', 'first', 'first', 'more', 'vast', 'more', 'australian', 'fiscal', 'modest', 'substantial', 'significant', 'economic', 'particular', 'chinese', 'unlikely', 'economic', 'australian', 'fiscal', 'australian', 'uncommon', 'steep', 'recent', 'sure', 'lower', 'early', 'emphasise', 'lower', 'widespread', 'casual', 'sick', 'sick', 'casual', 'isolate', 'global', 'macro', 'more', 'extended', 'prolonged', 'simultaneous', 'global', 'economic', 'first', 'global', 'full', 'economic', 'unclear', 'longer', 'normal', 'greater', 'economic', 'global', 'macro', 'chief', 'medical', 'australian', 'significant', 'bright', 'red', 'taxing', 'largest', 'least', 'stunned', 'confusing', 'slim', 'last', 'big', 'republican', 'last', 'small', 'higher', 'final', 'local', 'unprecedented', 'local', 'anti', '-', 'tax', 'local', 'close', 'undecided', 'presidential', 'primary', 'local', 'local', 'simple', 'local', 'local', 'higher', 'higher', 'many', 'official', 'total', 'various', 'sudden', 'deeper', 'more', 'higher', 'recent', 'nonpartisan', 'widespread', 'several', 'most', 'high', 'overwhelming', 'big', 'senior', 'high', 'universal', 'local', 'cynical', 'enough', 'enough', 'whole', 'original', 'historic', 'limited', 'nationwide', 'anti', '-', 'tax', 'many', 'original', 'commercial', 'industrial', 'first', 'major', 'serious', 'higher', 'confused', 'professional', 'easy', 'bigger', 'skeptical', 'final', 'legislative', 'total', 'few', 'reduced', 'local', 'political', 'more', 'mere', 'red', 'more', 'biggest', 'global', 'official', 'crude', 'steep', 'crude', 'lowest', 'biggest', 'daily', 'first', 'lowest', 'biggest', 'lower', 'few', 'whole', 'global', 'next', 'senior', 'strategic', 'other', 'more', 'crude', 'current', 'biggest', 'largest', 'last', 'other', 'major', 'biggest', 'shale', 'last', 'dire', 'significant', 'official', 'crude', 'largest', 'biggest', 'other', 'major', 'such', 'other', 'major', 'such', 'global', 'second', 'third', 'other', 'asian', 'highest', 'safe', 'new', 'global', 'financial', 'open', 'third', 'such', 'recent', 'global', 'worst', 'other', 'new', 'global', 'last', 'earlier', 'unnamed', 'holiest', 'mild', 'moderate', 'new', 'sure', 'much', 'global', 'vast', 'new', 'major', 'economic', 'global', 'slow', 'last', 'own', 'free', 'mideast', 'saudi', 'early', 'steep', 'responsible', 'more', 'biggest', 'daily', 'first', 'official', 'global', 'official', 'crude', 'steep', 'crude', 'lowest', 'biggest', 'daily', 'first', 'lowest', 'biggest', 'lower', 'few', 'whole', 'global', 'next', 'senior', 'strategic', 'other', 'more', 'crude', 'current', 'biggest', 'largest', 'last', 'other', 'major', 'biggest', 'shale', 'last', 'senior', 'official', 'crude', 'dire', 'significant', 'largest', 'biggest', 'other', 'major', 'such', 'other', 'major', 'such', 'global', 'second', 'third', 'other', 'asian', 'highest', 'safe', 'good', 'more', 'major', 'asian', 'global', 'global', 'awash', 'much', 'international', 'electronic', 'dramatic', 'biggest', 'much', 'benchmark', 'more', 'top', 'other', 'first', 'mild', 'american', 'military', 'mandatory', 'federal', 'other', 'positive', 'positive', 'other', 'mixed', 'first', 'social', 'social', 'early', 'recent', 'former', 'social', 'first', 'last', 'circular', 'positive', 'other', 'presidential', 'momentumbiden', 'latest', 'electrical', 'limited', 'catastrophic', 'first', 'inbox', 'first', 'much', 'biggest', 'daily', 'official', 'crude', 'steep', 'crude', 'much', 'lowest', 'more', 'lowest', 'biggest', 'lower', 'few', 'whole', 'global', 'next', 'senior', 'strategic', 'other', 'more', 'crude', 'current', 'recent', 'other', 'major', 'biggest', 'senior', 'main', 'official', 'crude', 'dire', 'significant', 'largest', 'biggest', 'other', 'major', 'such', 'first', 'annual', 'major', 'global', 'second', 'third', 'other', 'asian', 'highest', 'safe', 'novel', 'more', 'economic', 'global', 'least', 'normal', 'italian', 'much', 'northern', 'other', 'more', 'wide', 'more', 'much', 'australian', 'japanese', 'heavy', 'past', 'several', 'due', 'last', 'worst', 'financial', 'economic', 'new', 'national', 'additional', 'national', 'worst', 'new', 'lowest', 'religious', 'large', 'new', 'religious', 'intense', 'global', 'susceptible', 'close', 'limited', 'medical', 'foreign', 'foreign', 'complete', 'early', 'potential', 'exact', 'foreign', 'unknown', 'few', 'new', 'italian', 'early', 'northern', 'sweeping', 'entire', 'other', 'toughest', 'new', 'essential', 'northern', 'other', 'entire', 'religious', 'effective', 'uncontrolled', 'other', 'worst', 'several', 'federal', 'military', 'multiple', 'last', 'positive', 'positive', 'proactive', 'cautious', 'worried', 'potential', '73-year', 'old', 'fantastic', 'intense', 'such', 'key', 'booming', 'mass', 'prolonged', 'primary', 'few', 'large', 'long', 'good', 'safe', 'additional', 'much', 'biggest', 'daily', 'awash', 'next', 'last', 'further', 'steep', 'official', 'crude', 'top', 'low', 'crude', 'more', 'much', 'lowest', 'more', 'lowest', 'biggest', 'lower', 'few', 'whole', 'global', 'next', 'senior', 'strategic', 'other', 'more', 'crude', 'current', 'recent', 'other', 'major', 'biggest', 'senior', 'main', 'official', 'crude', 'dire', 'significant', 'largest', 'biggest', 'other', 'major', 'such', 'first', 'annual', 'major', 'global', 'second', 'third', 'other', 'asian', 'highest', 'safe', 'ready', 'more', 'crude', 'more', 'depressed', 'national', 'first', 'initial', 'public', 'more', 'kuwaiti', 'major', 'more', 'good', 'short', 'economic', 'saudi', 'lost', 'lower', 'lower', 'largest', 'crude', 'largest', 'largest', 'more', 'easy', 'awash', 'likely', 'clear', 'more', 'informed', 'global', 'daily', 'former', 'executive', 'shale', 'unable', 'russian', 'last', 'largest', 'modest', 'likely', 'global', 'additional', 'last', 'more', 'more', 'massive', 'other', 'dependent', 'low', 'low', 'international', 'weakened', 'lower', 'initial', 'key', 'public', 'many', 'ambitious', 'expensive', 'economic', 'entire', 'political', 'royal', 'potential', 'good', 'largest', 'crude', 'much', 'steepest', 'financial', 'aggressive', 'more', 'big', 'benchmark', 'close', 'bumpy', 'past', 'easier', 'asian', 'european', 'economic', 'big', 'informed', 'global', 'daily', 'other', 'tighter', 'large', 'public', 'draconian', 'anemic', 'economic', 'more', 'stricter', 'public', 'balanced', 'short', 'more', 'financial', 'financial', 'hourly', 'full', 'part', 'simple', 'premature', 'forthcoming', 'prominent', 'tech', 'young', 'last', 'similar', 'financial', 'past', 'about', 'wrong', 'economic', 'initial', 'public', 'more', 'dead', 'pied', 'many', 'young', 'vulnerable', 'manic', 'bizarre', 'paranoid', 'correct', 'irrational', 'later', 'irrational', 'american', 'last', 'nominal', 'infamous', 'different', 'democratic', 'new', 'key', 'big', 'latest', 'quarterly', 'chinese', 'american', 'national', 'co', '-', 'working', 'other', 'republican', 'forthcoming', 'new', 'big', 'legal', 'facial', 'restrictive', 'best', 'more', 'ready', 'pitched', 'familiar', 'recent', 'several', 'contentious', 'new', 'potential', 'several', 'epic', 'familiar', 'potential', 'new', 'high', 'possible', 'familiar', 'commercial', 'familiar', 'more', 'dead', 'profound', 'international', 'central', 'thriving', 'olive', 'financial', 'complicated', 'high', 'other', 'punitive', 'long', 'democratic', 'broader', 'newest', 'few', 'presidential', 'late', 'foreign', 'national', 'previous', 'past', 'interested', 'recent', 'necessary', 'technical', 'more', 'potential', 'difficult', 'technical', 'new', 'new', 'criminal', 'individual', 'technical', 'heated', 'several', 'new', 'novel', 'new', 'challenging', 'open', 'public', 'public', 'collaborative', 'top', 'top', 'federal', 'best', 'next', 'new', 'familiar', 'simple', 'other', 'simple', 'concerned', 'clear', 'other', 'first', 'familiar', 'worried', 'concerned', 'other', 'interested', 'first', 'familiar', 'aware', 'last', 'third', 'familiar', 'contentious', 'familiar', 'counter', 'better', 'high', 'mobile', 'other', 'commercial', 'steep', 'potential', 'economic', 'last', 'economic', 'small', 'industrial', 'massive', 'worse', 'global', 'sudden', 'cheap', 'valuable', 'major', 'major', 'japanese', 'chinese', 'australian', 'south', 'korean', 'other', 'economic', 'molecular', 'other', 'other', 'private', 'related', 'optimistic', 'private', 'biggest', 'profligate', 'russian', 'middle', 'eastern', 'last', 'few', 'busy', 'bad', 'other', 'suburban', 'national', 'great', 'trusted', 'alternative', 'alternative', 'total', 'upbeat', 'public', 'dire', 'own', 'draconian', 'rare', 'impervious', 'political', 'new', 'global', 'huge', 'public', 'political', 'former', 'realistic', 'disorganized', 'apparent', 'latest', 'coordinated', 'certain', 'great', 'possible', 'bad', 'sad', 'early', 'mixed', 'mixed', 'political', 'ethnic', 'italian', 'inevitable', 'constant', 'public', 'serious', 'sunny', 'republican', 'last', 'own', 'great', 'top', 'public', 'concerned', 'political', 'last', 'wide', 'public', 'more', 'old', 'accountable', 'conservative', 'political', 'republican', 'recent', 'constant', 'political', 'remarkable', 'severe', 'botched', 'serious', 'sure', 'conventional', 'concrete', 'public', 'local', 'hard', 'top', 'unable', 'many', 'tough', 'many', 'available', 'breezy', 'better', 'better', 'encouraging', 'more', 'difficult', 'necessary', 'entire', 'northern', 'possible', 'appropriate', 'rapid', 'local', 'medical', 'last', 'conflicting', 'least', 'least', 'real', 'higher', 'true', 'valuable', 'more', 'positive', 'military', 'other', 'international', 'other', 'urgent', 'everyday', 'former', 'second', 'significant', 'nervous', 'aggressive', 'global', 'major', 'main', 'first', 'presidential', 'daily', 'new', 'safe', 'benchmark', 'crude', 'biggest', 'daily', 'lowest', 'much', 'other', 'major', 'lower', 'such', 'last', 'crude', 'low', 'smaller', 'abrupt', 'safe', 'financial', 'last', 'daily', 'more', 'industrial', 'financial', 'more', 'more', 'daily', 'last', 'other', 'global', 'worse', 'original', 'viral', 'electronic', 'international', 'biggest', 'strategic', 'first', 'global', 'financial', 'low', 'japanese', 'chinese', 'other', 'normal', 'least', 'raw', 'asian', 'much', 'potential', 'severe', 'anti', '-', 'disease', 'central', 'corporate', 'due', 'raw', 'new', 'last', 'global', 'public', 'key', 'late', 'first', 'indicate', 'safe', 'global', 'sustained', 'extended', 'responsible', 'more', 'same', 'covid-19', 'bad', 'other', 'new', 'low', 'less', 'about', 'global', 'domestic', 'about', 'pre', '-', 'market', 'private', 'public', 'slower', 'efficient', 'public', 'non', '-', 'biotech', 'least', 'little', 'informed', 'good', '50-year', 'low', 'respiratory', 'related', 'more', 'optimistic', 'potential', 'possible', 'public', 'favorable', 'low', 'early', 'foreign', 'other', 'higher', 'next', 'former', 'former', 'substantial', 'former', 'first', 'next', 'sure', 'much', 'real', 'able', 'such', 'public', 'effective', 'inconvenient', 'infected', 'infected', 'final', 'double', 'dangerous', 'critical', 'accurate', 'american', 'full', 'senior', 'federal', 'mixed', 'available', 'top', 'infectious', 'key', 'touching', 'worried', 'american', 'top', 'economic', 'stimulus', 'more', 'calm', 'other', 'alarmed', 'wide', 'few', 'financial', 'new', 'violent', 'more', 'breathtaking', 'first', 'few', 'sharp', 'more', 'european', 'more', 'more', 'safe', 'closer', 'many', 'helpless', 'much', 'corporate', 'easiest', 'such', 'optimistic', 'short', 'more', 'big', 'more', 'new', 'industrial', 'last', '11th', 'financial', 'last', 'international', 'global', 'biggest', 'financial', 'double', 'global', 'asian', 'huge', 'such', 'crude', 'biggest', 'international', 'more', 'more', 'italian', 'worst', 'global', 'financial', 'australian', 'more', 'fresh', 'japanese', 'safe', 'global', 'simultaneous', 'medical', 'monetary', 'fiscal', 'more', 'future', 'serious', 'downside', 'different', 'monetary', 'massive', 'early', 'crucial', 'financial', 'northern', 'deadly', 'further', 'global', 'more', 'official', 'vast', 'several', 'european', 'more', 'early', 'lower', 'steep', 'more', 'daily', 'basic', 'latest', 'severe', 'main', 'italian', 'further', 'fearful', 'several', 'dead', 'italian', 'other', 'european', 'such', 'latest', 'biggest', 'top', 'closed', 'international', 'several', 'largest', 'connected', 'next', 'least', 'due', 'bad', 'coordinated', 'fine', 'uncertain', 'global', 'financial', 'slow', 'poor', 'laden', 'global', 'foreign', 'direct', 'much', 'several', 'central', 'substantial', 'fiscal', 'first', 'annual', 'more', 'most', 'makeshift', 'new', 'new', 'lowest', 'fresh', 'global', 'largest', 'smallest', 'daily', 'new', 'foreign', 'mobile', 'global', 'third', 'biggest', 'deep', 'large', 'dramatic', 'ferocious', 'benchmark', 'crude', 'much', 'earlier', 'asian', 'lowest', 'more', 'similar', 'negative', 'last', 'non', 'member', 'major', 'own', 'biggest', 'saudi', 'crude', 'heavyweight', 'saudi', 'unprecedented', 'less', 'same', 'own', 'more', 'new', 'massive', 'second', 'likely', 'covid-19', 'first', 'annual', 'more', 'further', 'reminiscent', 'less', 'global', 'sharp', 'most', 'political', 'corrupt', 'additional', 'baseless', 'russian', 'bad', 'sick', 'deep', 'light', 'long', 'bad', 'sick', 'elderly', 'own', 'bad', 'democratic', 'nervous', 'big', 'crazy', 'semi', '-', 'considerable', 'greater', 'low', 'more', 'last', 'deadly', 'respiratory', 'daily', 'high', 'annual', 'last', 'positive', 'latest', 'first', 'late', 'statewide', 'first', 'international', 'positive', 'novel', 'able', 'presumptive', 'positive', 'unspecified', 'non', '-', 'commercial', 'medical', 'dull', 'queasy', 'small', 'windowless', 'young', 'nauseated', 'happy', 'sure', 'big', 'hot', 'ill', 'heavy', 'long', 'several', 'reminiscent', 'largest', 'non', '-', 'public', 'sluggish', 'highest', 'multiple', 'more', 'next', 'additional', 'respiratory', 'more', 'more', 'more', 'economic', 'central', 'secondary', 'familiar', 'past', 'positive', 'next', 'operational', 'uncomfortable', 'covid-19', 'operational', 'novel', 'global', 'public', 'national', 'severe', 'military', 'last', 'deadly', 'respiratory', 'global', 'major', 'overseas', 'automatic', '15-minute', 'last', 'financial', 'daily', 'similar', 'infectious', 'similar', 'early', 'other', 'older', 'chronic', 'medical', 'big', 'social', 'rapid', 'greater', 'social', 'unnecessary', 'public', 'high', 'inherent', 'large', 'conservative', 'political', 'positive', 'confident', 'sick', 'fine', 'healthy', 'concerned', 'republican', 'political', 'presidential', 'former', 'least', 'activist', 'joint', 'social', 'large', 'social', 'own', 'public', 'important', 'joint', 'last', 'poor', 'more', 'available', 'famous', 'current', 'former', 'federal', 'latest', 'mysterious', 'responsible', 'older', 'sick', 'major', 'potential', 'global', '09t13:28:39.000zfederal', 'federal', 'older', 'sick', 'major', 'potential', 'global', 'current', 'former', 'federal', 'latest', 'mysterious', 'responsible', 'harsh', 'latest', 'deadly', 'live', 'third', 'bad', 'significant', 'free', 'fractional', 'major', 'other', 'operational', 'latest', 'ceos', 'last', 'last', 'unclear', 'similar', 'first', 'recent', 'second', 'shorter', '50-year', 'low', 'respiratory', 'related', 'more', 'optimistic', 'potential', 'possible', 'public', 'favourable', 'low', 'early', 'foreign', 'other', 'higher', 'next', 'former', 'substantial', 'former', 'first', 'next', 'sure', 'much', 'real', 'able', 'such', 'public', 'effective', 'inconvenient', 'infected', 'infected', 'final', 'double', 'dangerous', 'critical', 'accurate', 'american', 'full', 'senior', 'federal', 'mixed', 'available', 'top', 'infectious', 'key', 'touching', 'worried', 'american', 'top', 'economic', 'stimulus', 'more', 'calm', 'limited', 'other', 'alarmed', 'late', 'shocking', 'political', 'whole', 'amazing', 'able', 'short', 'enough', 'last', 'due', 'least', 'fine', 'last', 'good', 'normal', 'wrong', 'infectious', 'public', 'better', 'better', 'less', 'northern', 'last', 'long', 'unaware', 'fake', 'economic', 'net', 'other', 'other', 'interesting', 'old', 'susceptible', 'next', 'few', 'big', 'real', 'red', 'big', 'bottom', 'public', 'beautiful', 'beautiful', 'important', 'perfect', 'perfect', 'perfect', 'right', 'perfect', 'good', 'perfect', 'ukrainian', 'perfect', 'final', 'double', 'medical', 'low', 'nuts', 'sudden', 'higher', 'higher', 'great', 'great', 'super', 'super', 'surprised', 'natural', 'real', 'more', 'complimentary', 'good', 'host', 'political', 'other', 'recent', 'more', 'various', 'public', 'straight', 'infected', 'infected', 'bad', 'bad', 'worried', 'calm', 'calm', 'co', 'next', 'mixed', 'alarming', 'few', 'few', 'few', 'different', 'suspicious', 'other', 'small', 'small', 'giant', 'presidential', 'bona', 'fide', 'last', 'few', 'interested', 'own', 'sober', 'serious', 'own', 'public', 'wild', 'south', 'federal', 'dismissive', 'related', 'presidential', 'fellow', 'public', 'political', 'serious', 'overall', 'low', 'last', 'common', 'nonchalant', 'aggressive', 'other', 'senior', 'other', 'federal', 'potential', 'last', 'last', 'good', 'possible', 'economic', 'wrong', 'such', 'unprecedented', 'modern', 'presidential', 'sober', 'best', 'happy', 'former', 'necessary', 'worried', 'nonpartisan', 'strong', 'responsible', 'lower', 'many', 'better', 'own', 'lone', 'great', 'super', '-', 'genius', 'surprised', 'natural', 'respective', 'natural', 'political', 'annual', 'recent', 'global', 'jittery', 'economic', 'serious', 'long', 'only', 'scientific', 'federal', 'big', 'second', 'general', 'large', 'former', 'democratic', 'presidential', 'former', 'domestic', 'global', 'general', 'likely', 'other', 'economic', 'possible', 'potential', 'sick', 'public', 'national', 'respiratory', 'past', 'global', 'major', 'more', 'late', 'latest', 'federal', 'economic', 'republican', 'last', 'least', 'more', 'highest', 'much', 'wealthy', 'industrial', 'like', 'daily', 'infectious', 'similar', 'early', 'other', 'older', 'chronic', 'medical', 'big', 'social', 'rapid', 'greater', 'social', 'unnecessary', 'public', 'high', 'inherent', 'large', 'conservative', 'political', 'positive', 'infected', 'confident', 'sick', 'concerned', 'political', 'presidential', 'former', 'mandatory', 'such', 'large', 'massive', 'last', 'most', 'military', 'immediate', 'medical', 'acute', 'last', 'like', 'earlier', 'same', 'more', 'positive', 'most', 'executive', 'other', 'major', 'positive', '50-year', 'low', 'new', 'new', 'respiratory', 'related', 'more', 'optimistic', 'potential', 'possible', 'public', 'favourable', 'low', 'early', 'foreign', 'other', 'higher', 'central', 'next', 'former', 'former', 'substantial', 'former', 'first', 'next', 'sure', 'much', 'real', 'able', 'such', 'public', 'effective', 'inconvenient', 'infected', 'infected', 'final', 'double', 'potential', 'dangerous', 'critical', 'accurate', 'american', 'full', 'senior', 'federal', 'mixed', 'available', 'top', 'infectious', 'key', 'touching', 'worried', 'american', 'top', 'economic', 'stimulus', 'more', 'calm', 'other', 'alarmed', 'highest', 'global', '15-minute', 'opening', 'last', 'standard', 'weekly', 'proper', 'own', 'precautionary', 'able', 'e', '-', 'mini', 'lower', 'following', 'main', 'sharp', 'industrial', 'public', 'major', 'economic', 'global', 'difficult', 'first', 'european', 'deep', 'long', 'profound', 'obvious', 'european', 'bitter', 'effective', 'traditional', 'economic', 'recent', 'cross', '-', 'border', 'economic', 'unchallenged', 'true', 'strict', 'much', 'individual', 'much', 'political', 'collective', 'global', 'financial', 'existential', 'european', 'effective', 'own', 'international', 'elevated', 'continued', 'perpetual', 'foundational', 'largest', 'other', 'northern', 'european', 'deep', 'cultural', 'mediterranean', 'profligate', 'southern', 'european', 'such', 'european', 'major', 'global', 'financial', 'informed', 'global', 'daily', 'primary', 'financial', 'central', 'short', 'european', 'unorthodox', 'longer', 'further', 'many', 'central', 'such', 'most', 'general', 'dark', 'symbolic', 'negative', 'little', 'broad', 'major', 'central', 'central', 'public', 'meaningful', 'economic', 'fiscal', 'small', 'unable', 'other', 'human', 'lethal', 'senior', 'european', 'targeted', 'italian', 'prime', 'massive', 'french', 'massive', 'economic', 'french', 'economic', 'other', 'european', 'seeming', 'discernible', 'last', 'european', 'european', 'little', 'senior', 'national', 'suboptimal', 'european', 'collective', 'other', 'last', 'european', 'potential', 'global', 'german', 'italian', 'consistent', 'conventional', 'rough', 'few', 'later', 'recent', 'more', 'other', 'many', 'outright', 'economic', 'dangerous', 'other', 'corporate', 'bottom', 'economic', 'bad', 'bad', 'likely', 'worldwide', 'chief', 'severe', 'european', 'arcane', 'central', 'economic', 'enough', 'european', 'muscular', 'little', 'quicker', 'large', 'ongoing', 'major', 'steep', 'largest', 'financial', 'high', 'perfect', 'chief', 'workinstant', 'chief', 'lower', 'global', 'highest', 'global', 'economic', 'lowest', 'crude', 'front', 'largest', 'global', 'widespread', 'large', 'major', 'deep', 'red', 'financial', 'largest', 'biggest', 'grounded', 'fewer', 'largest', 'last', 'new', 'new', 'new', 'new', 'new', 'covid-19', 'full', 'unnamed', 'holiest', 'cubic', 'muslim', 'holy', 'new', 'more', 'large', 'public', 'significant', 'federal', 'least', 'infected', 'certain', 'italian', 'northern', 'archaeological', 'more', 'more', 'other', 'largest', 'more', 'busy', 'difficult', 'necessary', 'public', 'public', 'olympic', 'catholic', 'temporary', 'large', 'public', 'southern', 'medical', 'further', 'global', 'global', 'worst', 'many', 'top', 'big', 'public', 'like', 'other', 'economic', 'possible', 'sick', 'isolate', 'public', 'national', 'respiratory', 'past', 'global', 'brief', 'more', 'top', 'economic', 'republican', 'upcoming', 'prestigious', 'virtual', 'infectious', 'other', 'older', 'chronic', 'medical', 'big', 'social', 'greater', 'social', 'unnecessary', 'public', 'high', 'inherent', 'large', 'conservative', 'political', 'positive', 'infected', 'political', 'presidential', 'former', 'more', 'last', 'least', 'highest', 'much', 'wealthy', 'industrial', 'mandatory', 'such', 'large', 'massive', 'most', 'last', 'most', 'military', 'immediate', 'medical', 'acute', 'more', 'executive', 'other', 'major', 'tenuous', 'much', 'necessary', 'potential', 'large', 'most', 'early', 'english', 'welsh', 'understandable', 'strange', 'first', 'chief', 'medical', 'fast', 'global', 'lethal', 'transformative', 'pitiless', 'economic', 'post', '-', 'crash', 'immediate', 'dire', 'near', 'deeper', 'global', 'unprecedented', 'economic', 'buoyant', 'quantitative', 'excessive', 'unfounded', 'content', 'booming', 'little', 'underlying', 'real', 'catastrophic', 'european', 'productive', 'wide', 'deafening', 'other', 'western', 'fiscal', 'public', 'deep', 'societal', 'public', 'fragile', 'vulnerable', 'multiple', 'least', 'insufficient', 'ill', 'northern', 'italian', 'infected', 'intensive', 'intolerable', 'scarce', 'new', 'first', 'high', 'traumatic', 'prepared', 'neglected', 'national', 'less', 'fiscal', 'biggest', 'daily', 'global', 'furious', 'crude', 'shale', 'future', 'different', 'few', 'crude', 'much', 'lowest', 'lowest', 'biggest', 'top', 'deeper', 'own', 'awash', 'crude', 'current', 'official', 'crude', 'recent', 'top', 'low', 'several', 'other', 'bigger', 'dire', 'significant', 'much', 'other', 'major', 'biggest', 'global', 'additional', 'more', 'vast', 'largest', 'biggest', 'first', 'annual', 'major', 'global', 'crude', 'radical', 'next', 'public', 'international', 'economic', 'automatic', '15-minute', 'hourly', 'high', 'social', 'blistering', 'chronological', 'latest', 'few', 'sick', 'automatic', 'global', 'new', 'many', 'populous', 'hourly', 'worldwide', 'full', 'positive', 'full', 'fine', 'healthy', 'least', 'covid-19', 'positive', 'military', 'italian', 'northern', 'northern', 'other', 'worst', 'worst', 'first', 'new', 'first', 'last', 'positive', 'close', 'medical', 'late', 'nonstop', 'western', 'clean', 'public', 'late', 'first', 'co', '-', 'fine', 'local', 'positive', 'first', 'covid-19', 'american', '55-year', 'old', 'second', 'several', 'social', 'late', 'first', 'global', 'global', 'other', 'local', 'international', '4b', 'public', 'public', 'local', 'unfortunate', 'multiple', 'first', 'first', 'presumptive', 'positive', 'other', 'first', 'presumptive', 'positive', 'stable', 'underway', 'public', 'additional', 'first', 'older', 'first', 'negative', 'sick', 'medical', 'first', 'close', 'ill', 'potential', 'late', 'negative', 'positive', 'noncommercial', 'late', 'previous', 'former', 'many', 'first', '44-year', 'old', 'positive', 'non', '-', 'stop', 'positive', 'unrelated', 'overseas', 'possible', 'local', 'more', 'own', '10-cent', 'own', 'unknown', 'infected', 'serious', 'fair', 'unrelated', 'separate', 'bipartisan', 'small', 'local', 'final', 'powerful', 'hopeful', 'able', 'small', 'such', 'natural', 'normal', 'second', 'old', 'deadly', 'airborne', 'top', 'other', 'huge', 'first', 'first', 'elderly', 'positive', 'federal', 'continued', 'local', 'federal', 'late', '10th', 'late', 'covid-19', 'more', 'possible', 'second', 'australian', 'second', '95-year', 'old', 'aged', 'first', 'australian', '78-year', 'old', 'additional', 'new', 'elderly', 'female', 'same', 'female', 'fine', 'online', 'formal', 'investigative', 'expanded', 'ambitious', 'digital', 'inclement', 'various', 'wide', 'new', 'total', 'social', 'short', 'low', 'alternative', 'creative', 'new', 'biggest', 'full', 'other', 'physical', 'german', 'big', 'non', '-', 'critical', 'keynote', 'larger', 'past', 'covid-19', 'biggest', 'digital', 'streamed', 'interactive', 'official', 'confusing', 'distinct', 'related', 'responsible', 'latest', 'covid-19', 'unclear', 'second', 'second', 'same', 'first', 'first', 'positive', 'largest', 'famous', 'secondary', 'northern', 'first', 'safe', 'effective', 'healthy', 'respiratory', 'huge', 'big', 'many', 'close', 'difficult', 'past', 'advisory', 'upset', 'able', 'new', 'biggest', 'social', 'tough', 'important', 'favorite', 'low', 'american', 'original', 'sick', 'local', 'able', 'top', 'high', 'biggest', 'famous', 'short', 'third', 'first', 'total', 'covid-19', 'first', 'first', 'same', 'first', 'biggest', 'few', 'last', 'first', '3d', 'special', 'human', 'able', 'human', 'stronger', 'likely', 'first', 'fewer', 'chinese', 'slower', 'normal', 'chief', 'next', 'few', 'infectious', 'new', 'first', 'specialized', 'largest', 'mobile', 'numerous', 'big', 'many', 'announced', 'chinese', 'new', 'previous', 'chinese', 'new', 'clinical', 'novel', 'little', 'confusing', 'grim', 'more', 'first', 'chinese', 'mysterious', 'like', 'chinese', 'japanese', 'first', '44-year', 'old', 'severe', 'public', 'international', 'general', 'national', 'international', 'public', 'most', 'major', 'public', 'other', 'first', 'human', 'chinese', 'infectious', 'significant', 'higher', 'first', 'first', 'positive', 'novel', 'first', '61-year', 'old', 'genetic', 'isolated', 'first', 'total', 'various', 'chinese', 'novel', 'central', 'more', 'medical', 'viral', 'chinese', 'mysterious', 'first', 'mysterious', 'like', 'epidemiological', 'closed', 'first', 'much', 'northern', 'draconian', 'serious', 'contagious', 'strict', 'northern', 'least', 'unprecedented', 'postwar', 'small', 'financial', 'last', 'little', 'massive', 'intensive', 'new', 'daily', 'strong', 'public', 'quieter', 'normal', 'many', 'smaller', 'open', 'empty', 'least', 'theoretical', 'other', 'central', 'empty', 'other', 'dramatic', 'overcrowded', 'red', 'aggressive', 'critical', 'economic', 'italian', 'financial', 'other', 'large', 'heavy', 'economic', 'wealthiest', 'productive', 'northern', 'blue', 'same', 'past', 'benchmark', 'german', 'first', 'global', 'crude', 'much', 'third', 'japanese', 'european', 'hefty', 'financial', 'low', 'unthinkable', 'safe', 'huge', 'disruptive', 'dynamic', 'fragile', 'multi', '-', 'full', 'full', 'reminiscent', 'financial', 'low', 'volatile', 'crude', 'on', 'biggest', 'daily', 'first', 'main', 'large', 'financial', 'pan', '-', 'regional', 'more', 'high', 'lower', 'sharp', 'broadest', 'worst', 'heavy', 'biggest', 'daily', 'global', 'financial', 'safe', 'us30yt', 'next', 'last', 'chief', 'past', 'rational', 'damaging', 'behavioral', 'high', 'net', 'worth', 'uneconomic', 'eastern', 'intense', 'negative', 'safe', 'first', 'global', 'largest', 'weekly', 'protective', 'electronic', 'late', 'last', 'highest', 'last', 'pandemic', 'former', 'non', '-', 'profit', 'last', 'stern', 'public', 'national', 'perfect', 'public', 'tragic', 'economic', 'social', 'serious', 'high', 'close', 'seasonal', 'optimistic', 'actual', 'public', 'lower', 'realistic', 'good', 'least', 'poor', 'unaware', 'minor', 'true', 'closer', 'normal', 'many', 'right', 'late', 'public', 'vital', 'necessary', 'right', 'public', 'key', 'promising', 'medical', 'overall', 'pandemic', 'correct', 'same', 'afraid', 'concerned', 'vital', 'pandemic', 'seductive', 'dangerous', 'same', 'patient', 'own', 'right', 'right', 'difficult', 'huge', 'positive', 'negative', 'military', 'good', 'wrong', 'next', 'few', 'likely', 'federal', 'necessary', 'possible', 'available', 'better', 'next', 'local', 'public', 'restrictive', 'appropriate', 'possible', 'high', 'responsive', 'sensible', 'best', 'available', 'other', 'certain', 'concerned', 'much', 'authoritarian', 'good', 'various', 'more', 'more', 'sound', 'early', 'toxic', 'sure', 'professional', 'alive', 'few', 'bad', 'new', 'such', 'first', 'new', 'opposite', 'new', 'normal', 'better', 'most', 'first', 'second', 'possible', 'best', 'bad', 'effective', 'available', 'sure', 'higher', 'certain', 'infected', 'many', 'vast', 'consistent', 'regular', 'cold', 'practical', 'most', 'good', 'long', 'thankful', 'worse', 'advanced', 'public', 'long', 'mutual', 'many', 'most', 'manageable', 'small', 'severe', 'elderly', 'serious', 'medical', 'more', 'available', 'most', 'most', 'most', 'calm', 'novel', 'preeminent', 'daily', 'terrifying', 'biggest', 'enough', 'other', 'future', 'better', 'few', 'daily', 'traumatizing', 'right', 'different', 'awful', 'deadliest', 'human', 'other', 'older', 'other', 'medical', 'public', 'spanish', 'proliferatingjournalistic', 'social', 'fourteenth', 'dead', 'same', 'different', 'disruptive', 'genetic', 'genetic', 'antiviral', 'informed', 'global', 'daily', 'impossible', 'mild', 'impossible', 'entire', 'little', 'protective', 'supportive', 'deadly', 'ordinary', 'infectious', 'older', 'lethal', 'ordinary', 'older', 'lethal', 'most', 'viral', 'deadly', 'young', 'youngest', 'same', 'new', 'older', 'medical', 'less', 'latest', 'seasonal', 'current', 'common', 'public', 'first', 'many', 'young', 'sick', 'many', 'stalwart', 'young', 'more', 'full', 'bluish', 'distressing', 'dead', 'other', 'overwhelmed', 'funeral', 'bereaved', 'own', 'local', 'similar', 'public', 'more', 'bottled', 'annual', 'seasonal', 'devastating', 'many', 'social', 'hard', 'profound', 'significant', 'other', 'long', 'tough', 'new', 'first', 'more', 'overcrowded', 'human', 'sufficient', 'own', 'several', 'sharp', 'global', 'new', 'virtual', 'much', 'wealthy', 'northern', 'northern', 'italian', 'black', 'new', 'second', 'new', 'new', 'global', 'free', 'european', 'foreign', 'egyptian', 'deadly', 'stringent', 'new', 'many', 'affected', 'european', 'busiest', 'new', 'positive', 'positive', 'chief', 'next', 'busiest', 'positive', 'french', 'second', 'busiest', 'inevitable', 'federal', 'least', '11-acre', 'more', 'military', 'more', 'possible', 'good', 'main', 'top', 'global', 'more', 'crude', 'worst', 'global', 'financial', 'natural', 'fragile', 'low', 'sharp', 'worse', 'casual', 'italian', 'highest', '24-hour', 'former', 'indigenous', 'indigenous', 'retail', 'catholic', 'anglican', 'more', 'federal', 'current', 'indigenous', 'indigenous', 'contrary', 'public', 'voluntary', 'notorious', 'young', 'disgraced', 'dead', 'last', 'australian', 'confusing', 'key', 'extreme', 'likely', 'global', 'future', 'extreme', 'marginal', 'general', 'swedish', 'british', 'secret', 'biggest', 'online', 'more', 'enough', 'democratic', 'presidential', 'hopeful', 'back', 'legal', 'free', 'high', 'compelling', 'compelling', 'reasonable', 'like', 'anonymous', 'single', 'first', 'potential', 'frantic', 'ubiquitous', 'modern', '18-year', 'old', 'full', 'true', 'little', 'sceptical', 'closed', 'australian', 'serious', 'criminal', 'appropriate', 'non', '-', 'alcoholic', 'fatty', 'sugary', 'local', 'worst', 'more', 'wary', 'worst', 'global', 'catastrophic', 'financial', 'public', 'international', 'economic', 'automatic', '15-minute', 'hourly', 'high', 'social', 'blistering', 'chronological', 'latest', 'few', 'sick', 'automatic', 'global', 'new', 'many', 'populous', 'hourly', 'olympic', 'more', 'new', 'more', 'total', 'personal', 'criminal', 'herbal', 'colloidal', 'essential', 'further', 'positive', 'advanced', 'worldwide', 'full', 'positive', 'full', 'fine', 'healthy', 'least', 'covid-19', 'positive', 'military', 'italian', 'northern', 'northern', 'other', 'worst', 'worst', 'first', 'new', 'first', 'last', 'positive', 'close', 'medical', 'late', 'nonstop', 'western', 'clean', 'public', 'late', 'first', 'co', '-', 'fine', 'local', 'positive', 'first', 'covid-19', 'american', '55-year', 'old', 'second', 'several', 'social', 'late', 'first', 'global', 'other', 'local', 'international', 'public', 'public', 'local', 'unfortunate', 'multiple', 'first', 'first', 'presumptive', 'positive', 'other', 'first', 'presumptive', 'positive', 'stable', 'underway', 'public', 'additional', 'first', 'older', 'first', 'negative', 'sick', 'medical', 'first', 'close', 'ill', 'potential', 'late', 'negative', 'positive', 'noncommercial', 'late', 'previous', 'former', 'many', 'first', '44-year', 'old', 'positive', 'nonstop', 'positive', 'unrelated', 'overseas', 'possible', 'local', 'more', 'own', '10-cent', 'own', 'unknown', 'infected', 'serious', 'fair', 'unrelated', 'separate', 'bipartisan', 'small', 'local', 'final', 'powerful', 'hopeful', 'able', 'small', 'such', 'natural', 'normal', 'second', 'old', 'deadly', 'airborne', 'top', 'other', 'huge', 'first', 'first', 'elderly', 'positive', 'federal', 'continued', 'local', 'federal', 'late', '10th', 'late', 'covid-19', 'more', 'possible', 'second', 'australian', 'second', '95-year', 'old', 'aged', 'first', 'australian', '78-year', 'old', 'additional', 'new', 'elderly', 'female', 'same', 'female', 'fine', 'online', 'formal', 'investigative', 'expanded', 'ambitious', 'digital', 'inclement', 'various', 'wide', 'new', 'total', 'social', 'short', 'low', 'alternative', 'creative', 'new', 'biggest', 'full', 'other', 'physical', 'german', 'big', 'non', '-', 'critical', 'keynote', 'larger', 'past', 'covid-19', 'biggest', 'digital', 'streamed', 'interactive', 'official', 'confusing', 'distinct', 'related', 'responsible', 'latest', 'covid-19', 'unclear', 'second', 'second', 'same', 'first', 'first', 'positive', 'largest', 'famous', 'secondary', 'northern', 'first', 'safe', 'effective', 'healthy', 'respiratory', 'huge', 'big', 'many', 'close', 'difficult', 'past', 'advisory', 'upset', 'able', 'new', 'biggest', 'social', 'tough', 'important', 'favorite', 'low', 'american', 'original', 'sick', 'local', 'able', 'top', 'high', 'biggest', 'famous', 'short', 'third', 'first', 'total', 'covid-19', 'first', 'first', 'same', 'first', 'biggest', 'few', 'last', 'first', '3d', 'special', 'human', 'able', 'human', 'stronger', 'likely', 'first', 'fewer', 'chinese', 'slower', 'normal', 'chief', 'next', 'few', 'new', 'first', 'specialized', 'largest', 'mobile', 'numerous', 'big', 'many', 'announced', 'chinese', 'new', 'previous', 'chinese', 'new', 'clinical', 'novel', 'little', 'confusing', 'grim', 'more', 'first', 'chinese', 'mysterious', 'like', 'chinese', 'japanese', 'first', '44-year', 'old', 'severe', 'public', 'international', 'national', 'international', 'public', 'most', 'major', 'public', 'other', 'first', 'human', 'chinese', 'infectious', 'significant', 'higher', 'first', 'first', 'positive', 'novel', 'first', '61-year', 'old', 'genetic', 'isolated', 'first', 'total', 'various', 'chinese', 'novel', 'central', 'more', 'medical', 'viral', 'chinese', 'mysterious', 'first', 'mysterious', 'like', 'epidemiological', 'deserted', 'clear', 'global', 'social', 'economic', 'major', 'european', 'more', 'japanese', 'much', 'industrial', 'closed', 'national', 'highest', 'infected', 'little', 'global', 'more', 'vast', 'many', 'real', 'tough', 'first', 'bottom', 'top', 'big', 'public', 'like', 'other', 'economic', 'possible', 'sick', 'top', 'such', 'drastic', 'individual', 'major', 'extensive', 'fifth', 'real', 'prime', 'potential', 'sudden', 'national', 'more', 'basque', 'nationwide', 'economic', 'most', 'new', 'new', 'second', 'new', 'national', 'new', 'lowest', 'more', 'main', 'northern', 'worst', 'busy', 'odd', '21-year', 'old', 'deserted', 'least', 'real', 'asian', 'major', 'early', 'main', 'asian', 'chinese', 'global', 'major', 'economic', 'more', 'biggest', 'more', 'other', 'large', 'australian', 'other', 'big', 'benchmark', 'early', 'senior', 'first', 'chinese', 'economic', 'international', 'chinese', 'economic', 'fourth', 'crude', 'next', 'inadequate', 'worldwide', 'unseen', 'global', 'financial', 'biggest', 'biggest', 'single', 'crude', 'much', 'worst', 'first', 'biggest', 'top', 'fragile', 'past', 'current', 'profitable', 'global', 'first', 'global', 'last', 'lower', 'least', 'lower', 'focused', 'more', 'northern', 'corporate', 'biggest', 'highest', 'high', 'corporate', 'important', 'biggest', 'unable', 'low', 'high', 'potential', 'global', 'inevitable', 'due', 'indebted', 'negative', 'financial', 'vital', 'reasonable', 'higher', 'long', 'distressed', 'british', 'further', 'fresh', 'key', 'laden', 'further', 'extreme', 'least', 'least', 'confident', 'federal', 'nationwide', 'novel', 'new', 'good', 'negative', 'overall', 'same', 'fewer', 'federal', 'good', 'poor', 'more', 'confident', 'nationwide', 'symptomatic', 'least', 'likely', 'local', 'novel', 'next', 'few', 'apt', 'next', 'few', 'likely', 'local', 'urban', 'suburban', 'local', 'likely', 'rural', 'prepared', 'prepared', 'federal', 'good', 'least', 'nationwide', 'novel', 'same', 'partisan', 'similar', 'larger', 'partisan', 'partisan', 'current', 'political', 'partisan', 'own', 'apt', 'prepared', 'prepared', 'negative', 'public', 'national', 'economic', 'positive', 'good', 'poor', 'good', 'good', 'good', 'last', 'positive', 'negative', 'foreign', 'long', 'random', 'national', 'live', 'full', 'global', 'much', 'third', 'japanese', 'benchmark', 'financial', 'low', 'unthinkable', 'german', 'fresh', 'safe', 'first', 'more', 'huge', 'disruptive', 'dynamic', 'fragile', 'multi', '-', 'asset', 'full', 'full', 'wide', 'comfortable', 'consistent', 'whipsawed', 'latest', 'severe', 'many', 'hard', 'reminiscent', 'financial', 'low', 'volatile', 'crude', 'biggest', 'daily', 'first', 'largest', 'single', 'financial', 'major', 'shy', 'main', 'northern', 'financial', 'pan', '-', 'regional', 'high', 'lower', 'broadest', 'worst', 'heavy', 'biggest', 'single', 'safe', 'us30yt', 'next', 'last', 'heavy', 'unable', 'financial', 'chief', 'lower', 'shale', 'record', 'low', 'intense', 'negative', 'safe', 'first', 'global', 'largest', 'weekly', 'late', 'last', 'highest', 'last', 'safe', 'least', 'worst', 'young', 'temporary', 'early', 'major', 'financial', 'global', 'cheap', 'latest', 'severe', 'acute', 'respiratory', 'total', 'non', '-', 'essential', 'global', 'open', 'overall', 'large', 'much', 'less', 'financial', 'fewer', 'real', 'cautious', 'global', 'steepest', 'financial', 'economic', 'worst', 'lowest', 'more', 'first', 'economic', 'british', 'northern', 'positive', 'infected', '26-year', 'old', 'italian', 'prime', 'darkest', 'worth', 'secure', 'biggest', 'severe', 'global', 'smaller', 'eurozone', 'sovereign', 'biggest', 'more', 'global', 'worst', 'global', 'bitter', 'international', 'steepest', 'first', 'more', 'sustained', 'heavy', 'other', 'financial', 'pure', 'twin', 'future', 'extreme', 'financial', 'highest', 'worse', 'better', 'latest', 'safe', 'german', 'lowest', 'more', 'opposite', 'first', 'negative', 'first', 'highest', 'financial', 'other', 'fragile', 'first', 'last', 'further', 'current', 'global', 'de', '-', 'facto', 'sweeping', 'critical', 'coordinated', 'international', 'protectionist', 'global', 'global', 'chief', 'likely', 'worst', 'sharp', 'short', 'outright', 'good', 'worst', 'likely', 'silver', 'biggest', 'prepared', 'sharp', 'financial', 'biggest', 'reminiscent', 'financial', 'financial', 'stronger', 'global', 'recent', 'temporary', 'biggest', 'global', 'crude', 'deepest', 'daily', 'major', 'lower', 'perfect', 'third', 'financial', 'chief', 'more', 'biggest', 'new', 'largest', 'more', 'more', 'other', 'lowest', 'high', 'worse', 'other', 'last', 'lower', 'shale', 'record', 'low', 'biggest', 'chief', 'last', 'awful', 'global', 'domestic', 'major', 'heavy', 'least', 'modest', 'other', 'american', 'critical', 'lowest', 'last', 'recent', 'excellent', 'requisite', 'recent', 'other', 'major', 'historical', 'unlikely', 'about', 'other', 'wild', 'widespread', 'bad', 'public', 'leading', 'whole', 'expensive', 'understandable', 'top', 'big', 'public', 'like', 'other', 'economic', 'possible', 'sick', 'top', 'economic', 'specific', 'direct', 'certain', 'other', 'public', 'national', 'respiratory', 'first', 'past', 'global', 'brief', 'top', 'economic', 'republican', 'upcoming', 'prestigious', 'virtual', 'infectious', 'other', 'older', 'chronic', 'medical', 'big', 'social', 'greater', 'social', 'unnecessary', 'public', 'high', 'inherent', 'large', 'conservative', 'political', 'positive', 'overall', 'infected', 'more', 'last', 'least', 'highest', 'much', 'wealthy', 'industrial', 'mandatory', 'such', 'large', 'massive', 'most', 'last', 'most', 'military', 'immediate', 'medical', 'acute', 'more', 'executive', 'other', 'major', 'populous', 'staggering', 'public', 'more', 'possible', 'public', 'international', 'economic', 'automatic', '15-minute', 'major', 'more', 'lower', 'hourly', 'high', 'social', 'blistering', 'chronological', 'latest', 'few', 'sick', 'automatic', 'global', 'major', 'more', 'more', 'new', 'many', 'populous', 'hourly', 'olympic', 'entire', 'public', 'more', 'new', 'more', 'total', 'personal', 'criminal', 'herbal', 'colloidal', 'essential', 'further', 'positive', 'advanced', 'worldwide', 'full', 'positive', 'full', 'fine', 'healthy', 'least', 'covid-19', 'positive', 'military', 'italian', 'northern', 'northern', 'other', 'worst', 'worst', 'first', 'new', 'first', 'last', 'positive', 'close', 'medical', 'late', 'nonstop', 'western', 'clean', 'public', 'late', 'first', 'co', '-', 'fine', 'local', 'positive', 'first', 'covid-19', 'american', '55-year', 'old', 'second', 'several', 'social', 'late', 'first', 'global', 'other', 'local', 'international', 'public', 'public', 'local', 'unfortunate', 'multiple', 'first', 'first', 'presumptive', 'positive', 'other', 'first', 'presumptive', 'positive', 'stable', 'underway', 'public', 'additional', 'first', 'older', 'first', 'negative', 'sick', 'medical', 'first', 'close', 'ill', 'potential', 'late', 'negative', 'positive', 'noncommercial', 'late', 'previous', 'former', 'many', 'first', '44-year', 'old', 'positive', 'nonstop', 'positive', 'unrelated', 'overseas', 'possible', 'local', 'more', 'own', '10-cent', 'own', 'unknown', 'infected', 'serious', 'fair', 'unrelated', 'separate', 'bipartisan', 'small', 'local', 'final', 'powerful', 'hopeful', 'able', 'small', 'such', 'natural', 'normal', 'second', 'old', 'deadly', 'airborne', 'top', 'other', 'huge', 'first', 'first', 'elderly', 'positive', 'federal', 'continued', 'local', 'federal', 'late', '10th', 'late', 'covid-19', 'more', 'possible', 'second', 'australian', 'second', '95-year', 'old', 'aged', 'first', 'australian', '78-year', 'old', 'additional', 'new', 'elderly', 'female', 'same', 'female', 'fine', 'online', 'formal', 'investigative', 'expanded', 'ambitious', 'digital', 'inclement', 'various', 'wide', 'new', 'total', 'social', 'short', 'low', 'alternative', 'creative', 'new', 'biggest', 'full', 'other', 'physical', 'german', 'big', 'non', '-', 'critical', 'keynote', 'larger', 'past', 'covid-19', 'biggest', 'digital', 'streamed', 'interactive', 'official', 'confusing', 'distinct', 'related', 'responsible', 'latest', 'covid-19', 'unclear', 'second', 'second', 'same', 'first', 'first', 'positive', 'largest', 'famous', 'secondary', 'northern', 'first', 'safe', 'effective', 'healthy', 'respiratory', 'huge', 'big', 'many', 'close', 'difficult', 'past', 'advisory', 'upset', 'able', 'new', 'biggest', 'social', 'tough', 'important', 'favorite', 'low', 'american', 'original', 'sick', 'local', 'able', 'top', 'high', 'biggest', 'famous', 'short', 'third', 'first', 'total', 'covid-19', 'first', 'first', 'same', 'first', 'biggest', 'few', 'last', 'first', '3d', 'special', 'human', 'able', 'human', 'stronger', 'likely', 'first', 'fewer', 'chinese', 'slower', 'normal', 'chief', 'next', 'few', 'new', 'first', 'specialized', 'largest', 'mobile', 'numerous', 'big', 'many', 'announced', 'chinese', 'new', 'previous', 'chinese', 'new', 'clinical', 'novel', 'little', 'confusing', 'grim', 'more', 'first', 'chinese', 'mysterious', 'like', 'chinese', 'japanese', 'first', '44-year', 'old', 'severe', 'public', 'international', 'national', 'international', 'public', 'most', 'major', 'public', 'other', 'first', 'human', 'chinese', 'infectious', 'significant', 'higher', 'first', 'first', 'positive', 'novel', 'first', '61-year', 'old', 'genetic', 'isolated', 'first', 'total', 'various', 'chinese', 'novel', 'central', 'more', 'medical', 'viral', 'chinese', 'mysterious', 'first', 'mysterious', 'like', 'epidemiological', 'anxious', 'muddled', 'congressional', 'little', 'latest', 'shaky', 'lowest', 'financial', 'congressional', 'brief', 'next', 'few', 'full', 'senior', 'other', 'republican', 'positive', 'close', 'infected', 'more', 'republican', 'pro', '-', 'trump', 'last', 'several', 'real', 'first', 'novel', 'more', 'global', 'unprecedented', 'nationwide', 'public', 'northern', 'whole', 'several', 'first', 'vast', 'annual', 'latest', 'high', 'positive', 'recent', 'close', 'close', 'infected', 'steepest', 'more', 'more', 'lower', 'worst', '15-minute', 'more', 'european', 'more', 'daily', 'basic', 'more', 'total', 'past', 'italian', 'further', 'fearful', 'several', 'dead', 'darkest', 'top', 'closed', 'international', 'several', 'largest', 'connected', 'next', 'least', 'bad', 'coordinated', 'fine', 'laden', 'global', 'several', 'central', 'aggressive', 'financial', 'direct', 'most', 'makeshift', 'new', 'new', 'lowest', 'fresh', 'global', 'largest', 'smallest', 'daily', 'new', 'supreme', 'annual', 'persian', 'new', 'daily', 'financial', 'substantial', 'public', 'economic', 'several', 'congressional', 'intent', 'top', 'economic', 'republican', 'possible', 'usual', 'normal', 'secure', 'same', 'precautionary', 'economic', 'potential', 'economic', 'voluntary', 'several', 'last', 'positive', 'large', 'public', 'seasonal', 'new', 'same', 'worse', 'same', 'insistent', 'public', 'serious', 'social', 'regular', 'senior', 'single', 'chief', 'least', 'much', 'federal', 'many', 'older', 'frequent', 'little', 'voluntary', 'last', 'petri', 'same', 'conservative', 'concerned', 'new', 'last', 'social', 'vast', 'republican', 'routine', 'congratulatory', 'democratic', 'chief', 'administrative', 'regular', 'other', 'economic', 'economic', 'massive', 'federal', 'federal', 'timely', 'targeted', 'economic', 'republican', 'economic', 'premature', 'little', 'premature', 'republican', 'economic', 'other', 'sick', 'longtime', 'additional', 'lower', 'best', 'economic', 'american', 'competent', 'full', 'best', 'normal', 'former', 'married', 'responsible', 'public', 'international', 'economic', 'automatic', '15-minute', 'major', 'more', 'lower', 'hourly', 'high', 'social', 'blistering', 'chronological', 'latest', 'few', 'sick', 'automatic', 'global', 'major', 'more', 'more', 'new', 'many', 'populous', 'hourly', 'olympic', 'more', 'financial', 'substantial', 'huge', 'hourly', 'small', 'certain', 'other', 'commercial', 'available', 'available', 'commercial', 'additional', 'entire', 'public', 'international', 'australian', 'due', 'largest', 'new', 'last', 'more', 'new', 'more', 'total', 'personal', 'criminal', 'herbal', 'colloidal', 'essential', 'further', 'positive', 'advanced', 'worldwide', 'full', 'positive', 'full', 'fine', 'healthy', 'least', 'covid-19', 'positive', 'military', 'italian', 'northern', 'northern', 'other', 'worst', 'worst', 'first', 'new', 'first', 'last', 'positive', 'close', 'medical', 'late', 'nonstop', 'western', 'clean', 'public', 'late', 'first', 'co', '-', 'fine', 'local', 'positive', 'first', 'covid-19', 'american', '55-year', 'old', 'second', 'several', 'social', 'late', 'first', 'global', 'global', 'other', 'local', 'international', 'public', 'public', 'local', 'unfortunate', 'multiple', 'first', 'first', 'presumptive', 'positive', 'other', 'first', 'presumptive', 'positive', 'stable', 'underway', 'public', 'additional', 'first', 'older', 'first', 'negative', 'sick', 'medical', 'first', 'close', 'ill', 'potential', 'late', 'negative', 'positive', 'noncommercial', 'late', 'previous', 'former', 'many', 'first', '44-year', 'old', 'positive', 'nonstop', 'positive', 'unrelated', 'overseas', 'possible', 'local', 'more', 'own', '10-cent', 'own', 'unknown', 'infected', 'serious', 'fair', 'unrelated', 'separate', 'bipartisan', 'small', 'local', 'final', 'powerful', 'hopeful', 'able', 'small', 'such', 'natural', 'normal', 'second', 'old', 'deadly', 'airborne', 'top', 'sxswtech', 'giant', 'other', 'huge', 'first', 'first', 'elderly', 'positive', 'federal', 'continued', 'local', 'federal', 'late', '10th', 'late', 'covid-19', 'more', 'possible', 'second', 'australian', 'second', '95-year', 'old', 'aged', 'first', 'australian', '78-year', 'old', 'additional', 'new', 'elderly', 'female', 'same', 'female', 'fine', 'online', 'formal', 'investigative', 'expanded', 'ambitious', 'digital', 'inclement', 'various', 'wide', 'new', 'total', 'social', 'short', 'low', 'alternative', 'creative', 'new', 'doubtjapan', 'biggest', 'full', 'other', 'physical', 'german', 'big', 'non', '-', 'critical', 'keynote', 'larger', 'past', 'covid-19', 'biggest', 'digital', 'streamed', 'interactive', 'official', 'confusing', 'distinct', 'related', 'responsible', 'latest', 'covid-19', 'unclear', 'second', 'second', 'same', 'first', 'first', 'positive', 'largest', 'famous', 'secondary', 'northern', 'first', 'safe', 'effective', 'healthy', 'respiratory', 'huge', 'big', 'many', 'close', 'difficult', 'past', 'advisory', 'upset', 'able', 'new', 'biggest', 'social', 'tough', 'important', 'favorite', 'low', 'american', 'original', 'sick', 'local', 'able', 'top', 'high', 'biggest', 'famous', 'short', 'third', 'first', 'total', 'covid-19', 'first', 'first', 'same', 'first', 'biggest', 'few', 'last', 'first', '3d', 'special', 'human', 'able', 'human', 'stronger', 'likely', 'first', 'fewer', 'chinese', 'slower', 'normal', 'chief', 'next', 'few', 'new', 'first', 'specialized', 'largest', 'mobile', 'numerous', 'big', 'many', 'announced', 'chinese', 'new', 'previous', 'chinese', 'new', 'clinical', 'novel', 'little', 'confusing', 'grim', 'more', 'first', 'chinese', 'mysterious', 'like', 'chinese', 'japanese', 'first', '44-year', 'old', 'severe', 'public', 'international', 'national', 'international', 'public', 'most', 'major', 'public', 'other', 'first', 'human', 'chinese', 'infectious', 'significant', 'higher', 'first', 'first', 'positive', 'novel', 'first', '61-year', 'old', 'genetic', 'isolated', 'first', 'total', 'various', 'chinese', 'novel', 'central', 'more', 'medical', 'viral', 'chinese', 'mysterious', 'first', 'mysterious', 'like', 'epidemiological', 'top', 'big', 'public', 'like', 'other', 'economic', 'possible', 'sick', 'top', 'economic', 'specific', 'direct', 'certain', 'medical', 'other', 'public', 'national', 'respiratory', 'first', 'largest', 'single', 'financial', 'economic', 'upcoming', 'several', 'virtual', 'infectious', 'other', 'older', 'chronic', 'medical', 'big', 'social', 'greater', 'social', 'unnecessary', 'public', 'high', 'inherent', 'large', 'conservative', 'political', 'positive', 'overall', 'infected', 'more', 'last', 'least', 'highest', 'much', 'wealthy', 'industrial', 'mandatory', 'such', 'large', 'massive', 'most', 'last', 'most', 'military', 'immediate', 'medical', 'acute', 'more', 'executive', 'other', 'major', 'populous', 'staggering', 'public', 'more', 'possible', 'public', 'international', 'economic', 'automatic', '15-minute', 'major', 'more', 'lower', 'hourly', 'high', 'social', 'blistering', 'chronological', 'latest', 'few', 'sick', 'automatic', 'global', 'major', 'more', 'more', 'new', 'many', 'populous', 'hourly', 'olympic', 'more', 'financial', 'substantial', 'huge', 'hourly', 'small', 'certain', 'other', 'commercial', 'available', 'available', 'infected', 'additional', 'entire', 'public', 'international', 'australian', 'due', 'largest', 'new', 'last', 'more', 'new', 'more', 'total', 'personal', 'criminal', 'herbal', 'colloidal', 'essential', 'further', 'positive', 'advanced', 'worldwide', 'full', 'positive', 'full', 'fine', 'healthy', 'least', 'covid-19', 'positive', 'military', 'italian', 'northern', 'northern', 'other', 'worst', 'worst', 'first', 'new', 'first', 'last', 'positive', 'close', 'medical', 'late', 'nonstop', 'western', 'clean', 'public', 'late', 'first', 'co', '-', 'fine', 'local', 'positive', 'first', 'covid-19', 'american', '55-year', 'old', 'second', 'several', 'social', 'late', 'first', 'global', 'global', 'other', 'local', 'international', 'public', 'public', 'local', 'unfortunate', 'multiple', 'first', 'first', 'presumptive', 'positive', 'other', 'first', 'presumptive', 'positive', 'stable', 'underway', 'public', 'additional', 'first', 'older', 'first', 'negative', 'sick', 'medical', 'first', 'close', 'ill', 'potential', 'late', 'negative', 'positive', 'noncommercial', 'late', 'previous', 'former', 'many', 'first', '44-year', 'old', 'positive', 'nonstop', 'positive', 'unrelated', 'overseas', 'possible', 'local', 'more', 'own', '10-cent', 'own', 'unknown', 'infected', 'serious', 'fair', 'unrelated', 'separate', 'bipartisan', 'small', 'local', 'final', 'powerful', 'hopeful', 'able', 'small', 'such', 'natural', 'normal', 'second', 'old', 'deadly', 'airborne', 'top', 'other', 'huge', 'first', 'first', 'elderly', 'positive', 'federal', 'continued', 'local', 'federal', 'late', '10th', 'late', 'covid-19', 'more', 'possible', 'second', 'australian', 'second', '95-year', 'old', 'aged', 'first', 'australian', '78-year', 'old', 'additional', 'new', 'elderly', 'female', 'same', 'female', 'fine', 'online', 'formal', 'investigative', 'expanded', 'ambitious', 'digital', 'inclement', 'various', 'wide', 'new', 'total', 'social', 'short', 'low', 'alternative', 'creative', 'new', 'biggest', 'full', 'other', 'physical', 'german', 'big', 'non', '-', 'critical', 'keynote', 'larger', 'past', 'covid-19', 'biggest', 'digital', 'streamed', 'interactive', 'official', 'confusing', 'distinct', 'related', 'responsible', 'latest', 'covid-19', 'unclear', 'second', 'second', 'same', 'first', 'first', 'positive', 'largest', 'famous', 'secondary', 'northern', 'first', 'safe', 'effective', 'healthy', 'respiratory', 'huge', 'big', 'many', 'close', 'difficult', 'past', 'advisory', 'upset', 'able', 'new', 'biggest', 'social', 'tough', 'important', 'favorite', 'low', 'american', 'original', 'sick', 'local', 'able', 'top', 'high', 'biggest', 'famous', 'short', 'third', 'first', 'total', 'covid-19', 'first', 'first', 'same', 'first', 'biggest', 'few', 'last', 'first', '3d', 'special', 'human', 'able', 'human', 'stronger', 'likely', 'first', 'fewer', 'chinese', 'slower', 'normal', 'chief', 'next', 'few', 'new', 'first', 'specialized', 'largest', 'mobile', 'numerous', 'big', 'many', 'announced', 'chinese', 'new', 'previous', 'chinese', 'new', 'clinical', 'novel', 'little', 'confusing', 'grim', 'more', 'first', 'chinese', 'mysterious', 'like', 'chinese', 'japanese', 'first', '44-year', 'old', 'severe', 'public', 'international', 'national', 'international', 'public', 'most', 'major', 'public', 'other', 'first', 'human', 'chinese', 'infectious', 'significant', 'higher', 'first', 'first', 'positive', 'novel', 'first', '61-year', 'old', 'genetic', 'isolated', 'first', 'total', 'various', 'chinese', 'novel', 'central', 'more', 'medical', 'viral', 'chinese', 'mysterious', 'first', 'mysterious', 'like', 'epidemiological', 'political', 'reliable', 'straight', 'common', 'recent', 'biggest', 'true', 'anxious', 'available', 'more', 'biggest', 'earlier', 'common', 'sick', 'tradable', 'first', 'highest', 'global', '15-minute', 'opening', 'last', 'available', 'first', 'available', 'available', 'technical', 'standard', 'weekly', 'proper', 'own', 'precautionary', 'able', 'e', '-', 'mini', 'lower', 'following', 'main', 'sharp', 'congressional', 'small', 'hourly', 'sick', 'dramatic', 'economic', 'substantial', 'complete', 'certain', 'main', 'american', 'other', 'economic', 'economic', 'massive', 'federal', 'federal', 'timely', 'targeted', 'economic', 'republican', 'economic', 'premature', 'little', 'premature', 'other', 'sick', 'longtime', 'additional', 'lower', 'low', 'ill', 'intent', 'top', 'economic', 'republican', 'possible', 'usual', 'normal', 'secure', 'same', 'precautionary', 'voluntary', 'several', 'last', 'positive', 'voluntary', 'last', 'petri', 'concerned', 'same', 'remote', 'past', 'associate', 'fair', 'online', 'best', 'online', 'seamless', 'keen', 'happy', 'much', 'complete', 'free', 'several', 'certain', 'likely', 'volatile', 'good', 'likely', 'busy', 'eventful', 'last', 'whole', 'international', 'contentious', 'dangerous', 'most', 'former', 'realistic', 'past', 'several', 'economic', 'american', 'worst', 'single', 'more', 'new', 'ready', 'dramatic', 'american', 'financial', 'sick', 'tense', 'less', 'critical', 'least', 'certain', 'sick', 'federal', 'skittish', 'recent', 'safe', 'fiscal', 'ominous', 'economic', 'downward', 'american', 'economic', 'good', 'fake', 'overblown', 'more', 'new', 'resilient', 'informed', 'global', 'daily', 'strong', 'more', 'public', 'economic', 'additional', 'economic', 'more', 'last', 'little', 'economic', 'many', 'further', 'such', 'large', 'most', 'new', 'cool', 'democratic', 'individual', 'american', 'safe', 'democratic', 'focused', 'available', 'affordable', 'sick', 'other', 'top', 'cold', 'sure', 'economic', 'stimulus', 'republican', 'daily', 'good', 'financial', 'proper', 'next', 'few', 'due', 'republican', 'timely', 'effective', 'several', 'more', 'specific', 'overall', 'biggest', 'financial', 'large', 'ongoing', 'major', 'current', '11th', 'high', 'high', 'chief', 'workinstant', 'lower', 'global', 'highest', 'global', 'economic', 'lowest', 'crude', 'front', 'largest', 'global', 'widespread', 'large', 'major', 'deep', 'red', 'sensitive', 'financial', 'largest', 'biggest', 'grounded', 'fewer', 'largest', 'new', 'high', 'new', 'new', 'new', 'last', 'sudden', 'american', 'considerable', 'other', 'much', 'other', 'intensive', 'economic', 'likely', 'weak', 'global', 'low', 'many', 'smaller', 'american', 'more', 'few', 'larger', 'about', 'pink', 'intense', 'many', 'other', 'several', 'african', 'political', 'difficult', 'only', 'less', 'older', 'less', 'efficient', 'lower', 'high', 'ample', 'social', 'lowest', 'lower', 'sufficient', 'financial', 'informed', 'global', 'daily', 'higher', 'vulnerable', 'medium', 'hydraulic', 'other', 'greatest', 'small', 'private', 'large', 'impatient', 'less', 'productive', 'small', 'fewer', 'much', 'american', 'more', 'last', 'medium', 'imperiled', 'major', 'little', 'low', 'large', 'new', 'last', 'more', 'other', 'hydraulic', 'shale', 'other', 'cheap', 'natural', 'less', 'american', 'best', 'many', 'last', 'higher', 'inevitable', 'late', 'more', 'hydraulic', 'ready', 'sharp', 'new', 'american', 'more', 'next', 'chief', 'biggest', 'american', 'global', 'prepared', 'latest', 'recent', 'many', 'different', 'good', 'top', 'first', 'low', 'firm', 'many', 'uncertain', 'slow', 'many', 'least', 'less', 'average', 'regular', 'last', 'american', 'good', 'low', 'much', 'recent', 'crude', 'huge', 'different', 'russian', 'short', 'many', 'american', 'lower', 'economic', 'saudi', 'social', 'saudi', 'national', 'initial', 'public', 'last', 'reduced', 'large', 'disgruntled', 'senior', 'lower', 'mixed', 'powerful', 'low', 'more', 'long', 'economic', 'global', 'akin', 'like', 'supplementary', 'nervous', 'due', 'second', 'new', 'worst', 'more', 'least', 'more', 'local', 'federal', 'most', 'older', 'broad', 'general', 'average', 'global', 'average', 'medical', 'worst', 'more', 'biggest', 'positive', 'low', 'serious', 'smart', 'slow', 'least', 'positive', 'novel', 'several', 'multiple', 'vulnerable', 'more', 'previous', 'positive', 'medical', 'medical', 'first', 'asymptomatic', 'military', 'other', 'international', 'positive', 'symptomatic', 'brief', 'similar', 'negative', 'social', 'many', 'least', 'more', 'new', 'more', 'ill', 'mandatory', 'illegal', 'sure', 'least', 'sick', 'bent', 'more', 'more', 'sick', 'more', 'good', 'several', 'infamous', 'fake', 'worst', 'viral', 'more', 'single', 'big', 'tremendous', 'fake', 'numerous', 'first', 'fake', 'second', 'genuine', 'genuine', 'more', 'single', 'fake', 'sorry', 'less', 'mindful', 'many', 'other', 'frequent', 'popular', 'due', 'longer', 'economic', 'flat', 'footed', 'first', 'half', 'minimum', 'economic', 'flat', 'footed', 'chief', 'substantial', 'minimum', 'many', 'additional', 'hard', 'economic', 'prime', 'robust', 'ready', 'major', 'net', 'other', 'kiwi', 'slow', 'cautious', 'economic', 'targeted', 'piecemeal', 'limited', 'likely', 'broader', 'macro', 'effective', 'full', 'former', 'senior', 'comprehensive', 'economic', 'prime', 'particular', 'great', 'economic', 'immediate', 'next', 'few', 'rapid', 'possible', 'infected', 'northern', 'widespread', 'third', 'additional', 'confirmed', 'probable', 'available', 'hourly', 'deep', 'economic', 'economic', 'economic', 'possible', 'substantial', 'hourly', 'specific', 'differing', 'sick', 'major', 'sick', 'republican', 'top', 'senior', 'major', 'economic', 'top', 'economic', 'interested', 'republican', 'economic', 'familiar', 'likely', 'timely', 'massive', 'federal', 'financial', 'new', 'more', 'economic', 'true', 'concerned', 'economic', 'private', 'public', 'good', 'intent', 'particular', 'monetary', 'economic', 'major', 'surprise', 'last', 'ineffective', 'little', 'half', 'sufficient', 'emotional', 'psychological', 'financial', 'more', 'public', 'senior', 'own', 'royal', 'free', 'dangerous', 'dissident', '34-year', 'old', 'low', 'more', 'new', 'western', 'rash', 'sudden', 'steep', 'global', 'grandiose', 'new', 'typical', 'right', 'prone', 'impulsive', 'senior', 'saudi', 'younger', 'former', 'possible', 'anxious', 'cowed', 'royal', 'forgetful', 'disoriented', 'quiet', 'persistent', 'risky', 'more', 'diverse', 'last', 'other', 'dependent', 'more', 'flat', 'painful', 'less', 'much', 'saudi', 'economic', 'public', 'saudi', 'other', 'major', 'international', 'lax', 'saudi', 'domestic', 'last', 'royal', 'potential', 'economic', 'vulnerable', 'royal', 'ambitious', 'economic', 'other', 'former', 'close', 'royal', 'little', 'unprecedented', 'modern', 'saudi', 'more', 'direct', 'own', 'sprawling', 'severe', 'royal', 'little', 'same', 'tight', 'close', 'royal', 'saudi', 'senior', 'more', 'old', 'submissive', 'least', 'other', 'prominent', 'current', 'previous', 'saudi', 'such', 'high', 'former', 'last', 'last', 'imminent', 'other', 'military', 'humanitarian', 'royal', 'other', 'wealthy', 'prime', 'american', 'saudi', 'particular', 'potential', 'armed', 'last', 'last', 'largest', 'fellow', 'next', 'spectacular', 'positive', 'good', 'former', 'contrary', 'many', 'opposite', 'important', 'western', 'bigger', 'logistical', 'global', 'large', 'ill', 'backup', 'central', 'separate', 'precautionary', 'sure', 'alternate', 'backup', 'alternate', 'familiar', 'last', 'biggest', 'logistical', 'terrorist', 'large', 'untenable', 'left', 'other', 'global', 'large', 'primary', 'financial', 'first', 'wholesale', 'considerable', 'physical', 'electronic', 'large', 'financial', 'chief', 'commercial', 'more', 'backup', 'challenging', 'financial', 'normal', 'many', 'own', 'personal', 'large', 'same', 'prepared', 'remote', 'able', 'significant', 'backup', 'alternative', 'confident', 'remote', 'backup', 'continuous', 'straightforward', 'widespread', 'technical', 'remote', 'accessible', 'temporary', 'financial', 'able', 'relevant', 'backup', 'large', 'other', 'flexible', 'critical', 'alternative', 'backup', 'other', 'financial', 'financial', 'remote', 'unique', 'sensitive', 'personal', 'impossible', 'confidential', 'sensitive', 'impossible', 'potential', 'financial', 'downward', 'serious', 'global', 'last', 'potential', 'economic', 'borderline', 'global', 'financial', 'large', 'small', 'potential', 'economic', 'downward', 'destructive', 'unexpected', 'much', 'international', 'possible', 'sharpest', 'first', 'past', 'few', 'worst', 'free', 'more', 'less', 'steep', 'automatic', 'first', 'current', '11th', 'current', 'longest', 'high', 'public', 'financial', 'economic', 'global', 'american', 'hourly', 'downward', 'underway', 'corporate', 'safe', 'informed', 'global', 'daily', 'corporate', 'many', 'long', 'historic', 'benchmark', 'last', 'short', 'available', 'easier', 'second', 'last', 'potential', 'ominous', 'large', 'small', 'raw', 'own', 'financial', 'own', 'less', 'short', 'same', 'panicky', 'risky', 'corporate', 'potential', 'many', 'mutual', 'leveraged', 'risky', 'corporate', 'popular', 'many', 'recent', 'round', 'global', 'open', 'easy', 'chief', 'advisory', 'possible', 'overblown', 'likely', 'economic', 'closed', 'restricted', 'fleeting', 'cheap', 'last', 'scorching', 'outsize', 'many', 'individual', 'mutual', 'longer', 'low', 'good', 'underway', 'many', 'substantial', 'monthly', 'higher', 'financial', 'high', 'central', 'precarious', 'financial', 'easier', 'unlikely', 'much', 'immediate', 'many', 'fiscal', 'economic', 'urgent', 'few', 'mundane', 'financial', 'recent', 'ultra', '-', 'short', 'popular', 'commercial', 'jumpy', 'mutual', 'higher', 'many', 'expensive', 'institutional', 'corporate', 'imminent', 'good', 'stronger', 'intense', 'financial', 'economic', 'more', 'shale', 'likely', 'early', 'natural', 'many', 'likely', 'local', 'steep', 'senior', 'positive', 'last', 'good', 'more', 'same', 'infected', 'conservative', 'political', 'precautionary', 'negative', 'easy', 'simple', 'affected', 'visual', '20-second', 'same', 'close', 'excellent', 'likely', 'more', 'american', 'common', 'worried', 'sick', 'brief', 'major', 'possible', 'substantial', 'further', 'worst', 'financial', 'utter', 'latest', 'positive', 'most', 'military', 'immediate', 'medical', 'nearby', 'several', 'foreign', 'previous', 'last', '71-year', 'old', 'underlying', 'round', 'presumptive', 'most', 'canadian', 'public', 'last', 'canadian', 'highest', 'total', 'strict']\n",
      "----\n",
      "['biggest', 'biggest', 'worst', 'biggest', 'worst', 'worst', 'biggest', 'biggest', 'largest', 'biggest', 'biggest', 'biggest', 'worst', 'biggest', 'least', 'best', 'best', 'worst', 'most', 'steepest', 'worst', 'lowest', 'darkest', 'biggest', 'biggest', 'worst', 'steepest', 'highest', 'latest', 'lowest', 'highest', 'worst', 'worst', 'biggest', 'biggest', 'latest', 'largest', 'biggest', 'most', 'finest', 'worst', 'most', 'weakest', 'most', 'latest', 'least', 'largest', 'largest', 'lowest', 'biggest', 'worst', 'lowest', 'largest', 'lowest', 'biggest', 'latest', 'latest', 'lowest', 'most', 'most', 'biggest', 'latest', 'latest', 'latest', 'latest', 'biggest', 'largest', 'latest', 'latest', 'earliest', 'earliest', 'least', 'least', 'best', 'fastest', 'least', 'best', 'largest', 'largest', 'greatest', 'latest', 'highest', 'greatest', 'best', 'worst', 'biggest', 'latest', 'lowest', 'clearest', 'largest', 'largest', 'highest', 'lowest', 'biggest', 'most', 'biggest', 'lowest', 'biggest', 'lowest', 'biggest', 'largest', 'most', 'biggest', 'largest', 'largest', 'highest', 'best', 'least', 'latest', 'best', 'largest', 'least', 'biggest', 'lowest', 'biggest', 'lowest', 'biggest', 'biggest', 'largest', 'most', 'biggest', 'largest', 'biggest', 'highest', 'sharpest', 'safest', 'greatest', 'biggest', 'lowest', 'biggest', 'lowest', 'biggest', 'biggest', 'largest', 'biggest', 'largest', 'biggest', 'highest', 'lowest', 'biggest', 'lowest', 'biggest', 'biggest', 'largest', 'biggest', 'largest', 'biggest', 'highest', 'biggest', 'biggest', 'worst', 'biggest', 'worst', 'worst', 'biggest', 'worst', 'largest', 'least', 'most', 'biggest', 'lowest', 'biggest', 'lowest', 'biggest', 'biggest', 'largest', 'biggest', 'largest', 'biggest', 'highest', 'worst', 'holiest', 'biggest', 'lowest', 'biggest', 'lowest', 'biggest', 'biggest', 'largest', 'biggest', 'largest', 'biggest', 'highest', 'biggest', 'biggest', 'lowest', 'lowest', 'biggest', 'biggest', 'largest', 'biggest', 'highest', 'least', 'worst', 'worst', 'lowest', 'toughest', 'worst', 'biggest', 'lowest', 'lowest', 'biggest', 'biggest', 'largest', 'biggest', 'highest', 'largest', 'largest', 'largest', 'largest', 'largest', 'steepest', 'latest', 'best', 'newest', 'best', 'biggest', 'latest', 'least', 'least', 'biggest', 'lowest', 'biggest', 'least', 'least', 'easiest', 'biggest', 'biggest', 'worst', 'latest', 'latest', 'biggest', 'largest', 'least', 'most', 'lowest', 'largest', 'smallest', 'biggest', 'lowest', 'biggest', 'most', 'latest', 'largest', 'highest', 'least', 'latest', 'latest', 'latest', 'latest', 'least', 'best', 'latest', 'least', 'highest', 'most', 'most', 'highest', 'largest', 'most', 'largest', 'highest', 'lowest', 'largest', 'largest', 'biggest', 'largest', 'holiest', 'least', 'largest', 'worst', 'least', 'highest', 'most', 'most', 'most', 'least', 'biggest', 'lowest', 'lowest', 'biggest', 'biggest', 'largest', 'biggest', 'latest', 'least', 'worst', 'worst', 'biggest', 'biggest', 'latest', 'largest', 'biggest', 'biggest', 'biggest', 'largest', 'most', 'least', 'least', 'wealthiest', 'biggest', 'broadest', 'worst', 'biggest', 'largest', 'highest', 'least', 'best', 'most', 'best', 'most', 'most', 'most', 'most', 'most', 'biggest', 'deadliest', 'most', 'youngest', 'latest', 'busiest', 'busiest', 'busiest', 'least', 'worst', 'highest', 'biggest', 'worst', 'worst', 'latest', 'least', 'worst', 'worst', 'biggest', 'biggest', 'latest', 'largest', 'biggest', 'biggest', 'biggest', 'largest', 'most', 'highest', 'most', 'lowest', 'worst', 'least', 'biggest', 'biggest', 'biggest', 'worst', 'biggest', 'least', 'biggest', 'highest', 'biggest', 'least', 'least', 'least', 'least', 'latest', 'biggest', 'largest', 'broadest', 'worst', 'biggest', 'largest', 'highest', 'least', 'worst', 'latest', 'steepest', 'worst', 'lowest', 'darkest', 'biggest', 'biggest', 'worst', 'steepest', 'highest', 'latest', 'lowest', 'highest', 'worst', 'worst', 'biggest', 'biggest', 'biggest', 'deepest', 'biggest', 'largest', 'lowest', 'biggest', 'least', 'lowest', 'least', 'highest', 'most', 'most', 'latest', 'least', 'worst', 'worst', 'biggest', 'biggest', 'latest', 'largest', 'biggest', 'biggest', 'biggest', 'largest', 'most', 'lowest', 'latest', 'steepest', 'worst', 'darkest', 'largest', 'least', 'most', 'lowest', 'largest', 'smallest', 'least', 'best', 'best', 'latest', 'largest', 'least', 'worst', 'worst', 'biggest', 'biggest', 'latest', 'largest', 'biggest', 'biggest', 'biggest', 'largest', 'most', 'largest', 'least', 'highest', 'most', 'most', 'latest', 'largest', 'least', 'worst', 'worst', 'biggest', 'biggest', 'latest', 'largest', 'biggest', 'biggest', 'biggest', 'largest', 'most', 'biggest', 'biggest', 'highest', 'best', 'most', 'worst', 'least', 'most', 'biggest', 'highest', 'lowest', 'largest', 'largest', 'biggest', 'largest', 'lowest', 'greatest', 'best', 'biggest', 'latest', 'least', 'worst', 'least', 'most', 'worst', 'biggest', 'least', 'least', 'least', 'worst', 'least', 'largest', 'biggest', 'sharpest', 'worst', 'longest', 'worst', 'latest', 'most', 'most', 'highest']\n"
     ]
    }
   ],
   "source": [
    "json_file = \"data_dump_analysis.json\"\n",
    "# adjectives = []\n",
    "# superlatives = []\n",
    "count = 0\n",
    "\n",
    "with open(json_file) as f:         # open the json file\n",
    "    the_data=json.loads(f.read())\n",
    "    for item in the_data:                    # loop through each item ...\n",
    "      \n",
    "      if \"content\" not in item.keys():\n",
    "        continue\n",
    "\n",
    "      story = item['content']\n",
    "      if \"stock market\" not in story:\n",
    "        continue\n",
    "\n",
    "      if \"safest\" in story:\n",
    "        print(\"safest\", item['url'])\n",
    "\n",
    "      if \"zaniest\" in story:\n",
    "        print(\"zaniest\", item['url'])\n",
    "\n",
    "      # count += 1\n",
    "      # print(count)\n",
    "\n",
    "      # doc = nlp(story)\n",
    "      # for token in doc:\n",
    "      #   if token.pos_ == \"ADJ\":\n",
    "      #     adjectives.append(token.text.lower())\n",
    "      #   if token.tag_ == \"JJS\":\n",
    "      #     superlatives.append(token.text.lower())\n",
    "\n",
    "        \n",
    "\n",
    "print(adjectives)\n",
    "print(\"----\")\n",
    "print(superlatives)\n",
    "\n"
   ]
  },
  {
   "cell_type": "code",
   "execution_count": 92,
   "metadata": {
    "colab": {
     "base_uri": "https://localhost:8080/",
     "height": 34
    },
    "colab_type": "code",
    "id": "AMNdeOtz_yJB",
    "outputId": "de502986-c64f-4553-a862-c5bf659967a4"
   },
   "outputs": [
    {
     "data": {
      "text/plain": [
       "8772"
      ]
     },
     "execution_count": 92,
     "metadata": {
      "tags": []
     },
     "output_type": "execute_result"
    }
   ],
   "source": [
    "len(adjectives)"
   ]
  },
  {
   "cell_type": "code",
   "execution_count": 93,
   "metadata": {
    "colab": {
     "base_uri": "https://localhost:8080/",
     "height": 34
    },
    "colab_type": "code",
    "id": "IJWdC8hK_x83",
    "outputId": "5f998127-db7e-439a-e8f2-cc9275db48ab"
   },
   "outputs": [
    {
     "data": {
      "text/plain": [
       "500"
      ]
     },
     "execution_count": 93,
     "metadata": {
      "tags": []
     },
     "output_type": "execute_result"
    }
   ],
   "source": [
    "len(superlatives)"
   ]
  },
  {
   "cell_type": "code",
   "execution_count": 94,
   "metadata": {
    "colab": {
     "base_uri": "https://localhost:8080/",
     "height": 34
    },
    "colab_type": "code",
    "id": "lfP78cgY_xp_",
    "outputId": "a25fef90-519a-4cc4-de44-860b508ae87c"
   },
   "outputs": [
    {
     "data": {
      "text/plain": [
       "2392"
      ]
     },
     "execution_count": 94,
     "metadata": {
      "tags": []
     },
     "output_type": "execute_result"
    }
   ],
   "source": [
    "len(the_data)"
   ]
  },
  {
   "cell_type": "code",
   "execution_count": null,
   "metadata": {
    "colab": {},
    "colab_type": "code",
    "id": "ARL01gQhBLIQ"
   },
   "outputs": [],
   "source": [
    "supers = pd.DataFrame(superlatives)"
   ]
  },
  {
   "cell_type": "code",
   "execution_count": null,
   "metadata": {
    "colab": {},
    "colab_type": "code",
    "id": "Vl8NiEIbbdAK"
   },
   "outputs": [],
   "source": [
    "supers.columns = ['word']"
   ]
  },
  {
   "cell_type": "code",
   "execution_count": null,
   "metadata": {
    "colab": {},
    "colab_type": "code",
    "id": "8WuMMJOxhAWU"
   },
   "outputs": [],
   "source": [
    "supers_list = supers['word'].value_counts().rename_axis('unique_values').reset_index(name='counts')"
   ]
  },
  {
   "cell_type": "code",
   "execution_count": null,
   "metadata": {
    "colab": {},
    "colab_type": "code",
    "id": "pRLwHX8lgx3K"
   },
   "outputs": [],
   "source": [
    "supers_list.to_csv('supers.txt', index=False)"
   ]
  },
  {
   "cell_type": "code",
   "execution_count": 99,
   "metadata": {
    "colab": {
     "base_uri": "https://localhost:8080/",
     "height": 554
    },
    "colab_type": "code",
    "id": "a9vs2-bshI-S",
    "outputId": "12c8dfc8-89b6-4a18-f86e-84eb92dd6fe6"
   },
   "outputs": [
    {
     "name": "stdout",
     "output_type": "stream",
     "text": [
      "unique_values,counts\n",
      "biggest,130\n",
      "largest,65\n",
      "worst,51\n",
      "least,48\n",
      "most,41\n",
      "latest,41\n",
      "lowest,40\n",
      "highest,29\n",
      "best,16\n",
      "steepest,6\n",
      "greatest,4\n",
      "busiest,3\n",
      "darkest,3\n",
      "smallest,2\n",
      "holiest,2\n",
      "sharpest,2\n",
      "earliest,2\n",
      "broadest,2\n",
      "weakest,1\n",
      "newest,1\n",
      "finest,1\n",
      "clearest,1\n",
      "wealthiest,1\n",
      "safest,1\n",
      "longest,1\n",
      "fastest,1\n",
      "easiest,1\n",
      "youngest,1\n",
      "deepest,1\n",
      "toughest,1\n",
      "deadliest,1\n"
     ]
    }
   ],
   "source": [
    "!cat supers.txt"
   ]
  },
  {
   "cell_type": "code",
   "execution_count": 69,
   "metadata": {
    "colab": {
     "base_uri": "https://localhost:8080/",
     "height": 554
    },
    "colab_type": "code",
    "id": "lCX13EY6bpJb",
    "outputId": "66cce72a-6e47-450b-cc56-0bfdbd5153b6"
   },
   "outputs": [
    {
     "data": {
      "text/plain": [
       "biggest       117\n",
       "largest        64\n",
       "least          47\n",
       "worst          42\n",
       "most           40\n",
       "latest         40\n",
       "lowest         38\n",
       "highest        27\n",
       "best           14\n",
       "steepest        4\n",
       "greatest        4\n",
       "busiest         3\n",
       "smallest        2\n",
       "holiest         2\n",
       "sharpest        2\n",
       "darkest         2\n",
       "earliest        2\n",
       "broadest        2\n",
       "weakest         1\n",
       "newest          1\n",
       "finest          1\n",
       "clearest        1\n",
       "wealthiest      1\n",
       "safest          1\n",
       "longest         1\n",
       "fastest         1\n",
       "easiest         1\n",
       "youngest        1\n",
       "deepest         1\n",
       "toughest        1\n",
       "deadliest       1\n",
       "Name: word, dtype: int64"
      ]
     },
     "execution_count": 69,
     "metadata": {
      "tags": []
     },
     "output_type": "execute_result"
    }
   ],
   "source": [
    "supers['word'].value_counts()"
   ]
  },
  {
   "cell_type": "code",
   "execution_count": 71,
   "metadata": {
    "colab": {
     "base_uri": "https://localhost:8080/",
     "height": 1000
    },
    "colab_type": "code",
    "id": "H4dv5RJDgxmP",
    "outputId": "a77b2cdd-b355-4d6b-ec84-388256673711"
   },
   "outputs": [
    {
     "name": "stdout",
     "output_type": "stream",
     "text": [
      "word\n",
      "latest\n",
      "largest\n",
      "biggest\n",
      "most\n",
      "finest\n",
      "worst\n",
      "most\n",
      "weakest\n",
      "most\n",
      "latest\n",
      "least\n",
      "largest\n",
      "largest\n",
      "lowest\n",
      "biggest\n",
      "worst\n",
      "lowest\n",
      "largest\n",
      "lowest\n",
      "biggest\n",
      "latest\n",
      "latest\n",
      "lowest\n",
      "most\n",
      "most\n",
      "biggest\n",
      "latest\n",
      "latest\n",
      "latest\n",
      "latest\n",
      "biggest\n",
      "largest\n",
      "latest\n",
      "latest\n",
      "earliest\n",
      "earliest\n",
      "least\n",
      "least\n",
      "best\n",
      "fastest\n",
      "least\n",
      "best\n",
      "largest\n",
      "largest\n",
      "greatest\n",
      "latest\n",
      "highest\n",
      "greatest\n",
      "best\n",
      "worst\n",
      "biggest\n",
      "latest\n",
      "lowest\n",
      "clearest\n",
      "largest\n",
      "largest\n",
      "highest\n",
      "lowest\n",
      "biggest\n",
      "most\n",
      "biggest\n",
      "lowest\n",
      "biggest\n",
      "lowest\n",
      "biggest\n",
      "largest\n",
      "most\n",
      "biggest\n",
      "largest\n",
      "largest\n",
      "highest\n",
      "best\n",
      "least\n",
      "latest\n",
      "best\n",
      "largest\n",
      "least\n",
      "biggest\n",
      "lowest\n",
      "biggest\n",
      "lowest\n",
      "biggest\n",
      "biggest\n",
      "largest\n",
      "most\n",
      "biggest\n",
      "largest\n",
      "biggest\n",
      "highest\n",
      "sharpest\n",
      "safest\n",
      "greatest\n",
      "biggest\n",
      "lowest\n",
      "biggest\n",
      "lowest\n",
      "biggest\n",
      "biggest\n",
      "largest\n",
      "biggest\n",
      "largest\n",
      "biggest\n",
      "highest\n",
      "lowest\n",
      "biggest\n",
      "lowest\n",
      "biggest\n",
      "biggest\n",
      "largest\n",
      "biggest\n",
      "largest\n",
      "biggest\n",
      "highest\n",
      "biggest\n",
      "biggest\n",
      "worst\n",
      "biggest\n",
      "worst\n",
      "worst\n",
      "biggest\n",
      "worst\n",
      "largest\n",
      "least\n",
      "most\n",
      "biggest\n",
      "lowest\n",
      "biggest\n",
      "lowest\n",
      "biggest\n",
      "biggest\n",
      "largest\n",
      "biggest\n",
      "largest\n",
      "biggest\n",
      "highest\n",
      "worst\n",
      "holiest\n",
      "biggest\n",
      "lowest\n",
      "biggest\n",
      "lowest\n",
      "biggest\n",
      "biggest\n",
      "largest\n",
      "biggest\n",
      "largest\n",
      "biggest\n",
      "highest\n",
      "biggest\n",
      "biggest\n",
      "lowest\n",
      "lowest\n",
      "biggest\n",
      "biggest\n",
      "largest\n",
      "biggest\n",
      "highest\n",
      "least\n",
      "worst\n",
      "worst\n",
      "lowest\n",
      "toughest\n",
      "worst\n",
      "biggest\n",
      "lowest\n",
      "lowest\n",
      "biggest\n",
      "biggest\n",
      "largest\n",
      "biggest\n",
      "highest\n",
      "largest\n",
      "largest\n",
      "largest\n",
      "largest\n",
      "largest\n",
      "steepest\n",
      "latest\n",
      "best\n",
      "newest\n",
      "best\n",
      "biggest\n",
      "latest\n",
      "least\n",
      "least\n",
      "biggest\n",
      "lowest\n",
      "biggest\n",
      "least\n",
      "least\n",
      "easiest\n",
      "biggest\n",
      "biggest\n",
      "worst\n",
      "latest\n",
      "latest\n",
      "biggest\n",
      "largest\n",
      "least\n",
      "most\n",
      "lowest\n",
      "largest\n",
      "smallest\n",
      "biggest\n",
      "lowest\n",
      "biggest\n",
      "most\n",
      "latest\n",
      "largest\n",
      "highest\n",
      "least\n",
      "latest\n",
      "latest\n",
      "latest\n",
      "latest\n",
      "least\n",
      "best\n",
      "latest\n",
      "least\n",
      "highest\n",
      "most\n",
      "most\n",
      "highest\n",
      "largest\n",
      "most\n",
      "largest\n",
      "highest\n",
      "lowest\n",
      "largest\n",
      "largest\n",
      "biggest\n",
      "largest\n",
      "holiest\n",
      "least\n",
      "largest\n",
      "worst\n",
      "least\n",
      "highest\n",
      "most\n",
      "most\n",
      "most\n",
      "least\n",
      "biggest\n",
      "lowest\n",
      "lowest\n",
      "biggest\n",
      "biggest\n",
      "largest\n",
      "biggest\n",
      "latest\n",
      "least\n",
      "worst\n",
      "worst\n",
      "biggest\n",
      "biggest\n",
      "latest\n",
      "largest\n",
      "biggest\n",
      "biggest\n",
      "biggest\n",
      "largest\n",
      "most\n",
      "least\n",
      "least\n",
      "wealthiest\n",
      "biggest\n",
      "broadest\n",
      "worst\n",
      "biggest\n",
      "largest\n",
      "highest\n",
      "least\n",
      "best\n",
      "most\n",
      "best\n",
      "most\n",
      "most\n",
      "most\n",
      "most\n",
      "most\n",
      "biggest\n",
      "deadliest\n",
      "most\n",
      "youngest\n",
      "latest\n",
      "busiest\n",
      "busiest\n",
      "busiest\n",
      "least\n",
      "worst\n",
      "highest\n",
      "biggest\n",
      "worst\n",
      "worst\n",
      "latest\n",
      "least\n",
      "worst\n",
      "worst\n",
      "biggest\n",
      "biggest\n",
      "latest\n",
      "largest\n",
      "biggest\n",
      "biggest\n",
      "biggest\n",
      "largest\n",
      "most\n",
      "highest\n",
      "most\n",
      "lowest\n",
      "worst\n",
      "least\n",
      "biggest\n",
      "biggest\n",
      "biggest\n",
      "worst\n",
      "biggest\n",
      "least\n",
      "biggest\n",
      "highest\n",
      "biggest\n",
      "least\n",
      "least\n",
      "least\n",
      "least\n",
      "latest\n",
      "biggest\n",
      "largest\n",
      "broadest\n",
      "worst\n",
      "biggest\n",
      "largest\n",
      "highest\n",
      "least\n",
      "worst\n",
      "latest\n",
      "steepest\n",
      "worst\n",
      "lowest\n",
      "darkest\n",
      "biggest\n",
      "biggest\n",
      "worst\n",
      "steepest\n",
      "highest\n",
      "latest\n",
      "lowest\n",
      "highest\n",
      "worst\n",
      "worst\n",
      "biggest\n",
      "biggest\n",
      "biggest\n",
      "deepest\n",
      "biggest\n",
      "largest\n",
      "lowest\n",
      "biggest\n",
      "least\n",
      "lowest\n",
      "least\n",
      "highest\n",
      "most\n",
      "most\n",
      "latest\n",
      "least\n",
      "worst\n",
      "worst\n",
      "biggest\n",
      "biggest\n",
      "latest\n",
      "largest\n",
      "biggest\n",
      "biggest\n",
      "biggest\n",
      "largest\n",
      "most\n",
      "lowest\n",
      "latest\n",
      "steepest\n",
      "worst\n",
      "darkest\n",
      "largest\n",
      "least\n",
      "most\n",
      "lowest\n",
      "largest\n",
      "smallest\n",
      "least\n",
      "best\n",
      "best\n",
      "latest\n",
      "largest\n",
      "least\n",
      "worst\n",
      "worst\n",
      "biggest\n",
      "biggest\n",
      "latest\n",
      "largest\n",
      "biggest\n",
      "biggest\n",
      "biggest\n",
      "largest\n",
      "most\n",
      "largest\n",
      "least\n",
      "highest\n",
      "most\n",
      "most\n",
      "latest\n",
      "largest\n",
      "least\n",
      "worst\n",
      "worst\n",
      "biggest\n",
      "biggest\n",
      "latest\n",
      "largest\n",
      "biggest\n",
      "biggest\n",
      "biggest\n",
      "largest\n",
      "most\n",
      "biggest\n",
      "biggest\n",
      "highest\n",
      "best\n",
      "most\n",
      "worst\n",
      "least\n",
      "most\n",
      "biggest\n",
      "highest\n",
      "lowest\n",
      "largest\n",
      "largest\n",
      "biggest\n",
      "largest\n",
      "lowest\n",
      "greatest\n",
      "best\n",
      "biggest\n",
      "latest\n",
      "least\n",
      "worst\n",
      "least\n",
      "most\n",
      "worst\n",
      "biggest\n",
      "least\n",
      "least\n",
      "least\n",
      "worst\n",
      "least\n",
      "largest\n",
      "biggest\n",
      "sharpest\n",
      "worst\n",
      "longest\n",
      "worst\n",
      "latest\n",
      "most\n",
      "most\n",
      "highest\n"
     ]
    }
   ],
   "source": [
    "!cat supers.txt"
   ]
  },
  {
   "cell_type": "code",
   "execution_count": null,
   "metadata": {
    "colab": {},
    "colab_type": "code",
    "id": "UBK0J8f6bwoA"
   },
   "outputs": [],
   "source": [
    "adj = pd.DataFrame(adjectives)"
   ]
  },
  {
   "cell_type": "code",
   "execution_count": null,
   "metadata": {
    "colab": {},
    "colab_type": "code",
    "id": "BP9AoMCucD96"
   },
   "outputs": [],
   "source": [
    "adj.columns = ['word']"
   ]
  },
  {
   "cell_type": "code",
   "execution_count": 59,
   "metadata": {
    "colab": {
     "base_uri": "https://localhost:8080/",
     "height": 218
    },
    "colab_type": "code",
    "id": "ZcZQ5NnmcKPJ",
    "outputId": "2fca3b6c-823d-43da-d262-29557f2bb944"
   },
   "outputs": [
    {
     "data": {
      "text/plain": [
       "more            273\n",
       "first           260\n",
       "other           204\n",
       "global          177\n",
       "last            153\n",
       "               ... \n",
       "traumatizing      1\n",
       "ceos              1\n",
       "urban             1\n",
       "unimaginable      1\n",
       "extensive         1\n",
       "Name: word, Length: 1103, dtype: int64"
      ]
     },
     "execution_count": 59,
     "metadata": {
      "tags": []
     },
     "output_type": "execute_result"
    }
   ],
   "source": [
    "adj['word'].value_counts() "
   ]
  },
  {
   "cell_type": "code",
   "execution_count": null,
   "metadata": {
    "colab": {},
    "colab_type": "code",
    "id": "-DjleuBNcWsr"
   },
   "outputs": [],
   "source": [
    "df = adj['word'].value_counts().rename_axis('unique_values').reset_index(name='counts')"
   ]
  },
  {
   "cell_type": "code",
   "execution_count": 62,
   "metadata": {
    "colab": {
     "base_uri": "https://localhost:8080/",
     "height": 402
    },
    "colab_type": "code",
    "id": "aMWh3L-EfZsI",
    "outputId": "5bc3723f-2e1d-441b-bd42-9cf34323efec"
   },
   "outputs": [
    {
     "data": {
      "text/html": [
       "<div>\n",
       "<style scoped>\n",
       "    .dataframe tbody tr th:only-of-type {\n",
       "        vertical-align: middle;\n",
       "    }\n",
       "\n",
       "    .dataframe tbody tr th {\n",
       "        vertical-align: top;\n",
       "    }\n",
       "\n",
       "    .dataframe thead th {\n",
       "        text-align: right;\n",
       "    }\n",
       "</style>\n",
       "<table border=\"1\" class=\"dataframe\">\n",
       "  <thead>\n",
       "    <tr style=\"text-align: right;\">\n",
       "      <th></th>\n",
       "      <th>unique_values</th>\n",
       "      <th>counts</th>\n",
       "    </tr>\n",
       "  </thead>\n",
       "  <tbody>\n",
       "    <tr>\n",
       "      <th>0</th>\n",
       "      <td>more</td>\n",
       "      <td>273</td>\n",
       "    </tr>\n",
       "    <tr>\n",
       "      <th>1</th>\n",
       "      <td>first</td>\n",
       "      <td>260</td>\n",
       "    </tr>\n",
       "    <tr>\n",
       "      <th>2</th>\n",
       "      <td>other</td>\n",
       "      <td>204</td>\n",
       "    </tr>\n",
       "    <tr>\n",
       "      <th>3</th>\n",
       "      <td>global</td>\n",
       "      <td>177</td>\n",
       "    </tr>\n",
       "    <tr>\n",
       "      <th>4</th>\n",
       "      <td>last</td>\n",
       "      <td>153</td>\n",
       "    </tr>\n",
       "    <tr>\n",
       "      <th>...</th>\n",
       "      <td>...</td>\n",
       "      <td>...</td>\n",
       "    </tr>\n",
       "    <tr>\n",
       "      <th>1098</th>\n",
       "      <td>traumatizing</td>\n",
       "      <td>1</td>\n",
       "    </tr>\n",
       "    <tr>\n",
       "      <th>1099</th>\n",
       "      <td>ceos</td>\n",
       "      <td>1</td>\n",
       "    </tr>\n",
       "    <tr>\n",
       "      <th>1100</th>\n",
       "      <td>urban</td>\n",
       "      <td>1</td>\n",
       "    </tr>\n",
       "    <tr>\n",
       "      <th>1101</th>\n",
       "      <td>unimaginable</td>\n",
       "      <td>1</td>\n",
       "    </tr>\n",
       "    <tr>\n",
       "      <th>1102</th>\n",
       "      <td>extensive</td>\n",
       "      <td>1</td>\n",
       "    </tr>\n",
       "  </tbody>\n",
       "</table>\n",
       "<p>1103 rows × 2 columns</p>\n",
       "</div>"
      ],
      "text/plain": [
       "     unique_values  counts\n",
       "0             more     273\n",
       "1            first     260\n",
       "2            other     204\n",
       "3           global     177\n",
       "4             last     153\n",
       "...            ...     ...\n",
       "1098  traumatizing       1\n",
       "1099          ceos       1\n",
       "1100         urban       1\n",
       "1101  unimaginable       1\n",
       "1102     extensive       1\n",
       "\n",
       "[1103 rows x 2 columns]"
      ]
     },
     "execution_count": 62,
     "metadata": {
      "tags": []
     },
     "output_type": "execute_result"
    }
   ],
   "source": [
    "df"
   ]
  },
  {
   "cell_type": "code",
   "execution_count": null,
   "metadata": {
    "colab": {},
    "colab_type": "code",
    "id": "DcBws_JDffRg"
   },
   "outputs": [],
   "source": [
    "df.to_csv('out.txt', index=False)"
   ]
  },
  {
   "cell_type": "code",
   "execution_count": 64,
   "metadata": {
    "colab": {
     "base_uri": "https://localhost:8080/",
     "height": 50
    },
    "colab_type": "code",
    "id": "cRT4KAfffxHk",
    "outputId": "962cca95-c5d5-4b91-bd46-dc9c52b1ff6b"
   },
   "outputs": [
    {
     "name": "stdout",
     "output_type": "stream",
     "text": [
      "ls: cannot access 'cat': No such file or directory\n",
      "out.txt\n"
     ]
    }
   ],
   "source": [
    "%ls cat out.txt"
   ]
  },
  {
   "cell_type": "code",
   "execution_count": 65,
   "metadata": {
    "colab": {
     "base_uri": "https://localhost:8080/",
     "height": 34
    },
    "colab_type": "code",
    "id": "Uzijaj9uf0pf",
    "outputId": "cc25aae6-e47a-4e76-94d8-2609b2cce1ec"
   },
   "outputs": [
    {
     "name": "stdout",
     "output_type": "stream",
     "text": [
      "data_dump_analysis.json  out.txt  \u001b[0m\u001b[01;34msample_data\u001b[0m/\n"
     ]
    }
   ],
   "source": [
    "%ls"
   ]
  },
  {
   "cell_type": "code",
   "execution_count": null,
   "metadata": {
    "colab": {},
    "colab_type": "code",
    "id": "zL26zAxaf3ir"
   },
   "outputs": [],
   "source": [
    "!cat out.txt"
   ]
  },
  {
   "cell_type": "code",
   "execution_count": null,
   "metadata": {
    "colab": {},
    "colab_type": "code",
    "id": "BptsIO5mf-5P"
   },
   "outputs": [],
   "source": []
  }
 ],
 "metadata": {
  "colab": {
   "name": "analysis-with-spacy.ipynb",
   "provenance": []
  },
  "kernelspec": {
   "display_name": "Python 3",
   "language": "python",
   "name": "python3"
  },
  "language_info": {
   "codemirror_mode": {
    "name": "ipython",
    "version": 3
   },
   "file_extension": ".py",
   "mimetype": "text/x-python",
   "name": "python",
   "nbconvert_exporter": "python",
   "pygments_lexer": "ipython3",
   "version": "3.7.7"
  }
 },
 "nbformat": 4,
 "nbformat_minor": 4
}
